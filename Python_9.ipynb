{
  "nbformat": 4,
  "nbformat_minor": 0,
  "metadata": {
    "colab": {
      "provenance": [],
      "authorship_tag": "ABX9TyNCLIe2lRGUd0ouSNppwFGA",
      "include_colab_link": true
    },
    "kernelspec": {
      "name": "python3",
      "display_name": "Python 3"
    },
    "language_info": {
      "name": "python"
    }
  },
  "cells": [
    {
      "cell_type": "markdown",
      "metadata": {
        "id": "view-in-github",
        "colab_type": "text"
      },
      "source": [
        "<a href=\"https://colab.research.google.com/github/Zahra-Fathima-Suhesh/Business-Analytics-with-Python/blob/main/Python_9.ipynb\" target=\"_parent\"><img src=\"https://colab.research.google.com/assets/colab-badge.svg\" alt=\"Open In Colab\"/></a>"
      ]
    },
    {
      "cell_type": "code",
      "execution_count": 1,
      "metadata": {
        "id": "cwhiT6pmNHK0"
      },
      "outputs": [],
      "source": [
        "def Zahra():\n",
        "  print(\"If you wanna fly, you have to give up the things that weigh you down\")"
      ]
    },
    {
      "cell_type": "code",
      "source": [
        "Zahra()"
      ],
      "metadata": {
        "colab": {
          "base_uri": "https://localhost:8080/"
        },
        "id": "F13eihI8QSVc",
        "outputId": "b8af3250-2a1b-49b5-889a-87084110d7a4"
      },
      "execution_count": 2,
      "outputs": [
        {
          "output_type": "stream",
          "name": "stdout",
          "text": [
            "If you wanna fly, you have to give up the things that weigh you down\n"
          ]
        }
      ]
    },
    {
      "cell_type": "code",
      "source": [
        "def Zahra():\n",
        "  print(\"Your roll number is\",57)"
      ],
      "metadata": {
        "id": "iK6WyykRQUUs"
      },
      "execution_count": 3,
      "outputs": []
    },
    {
      "cell_type": "code",
      "source": [
        "Zahra()"
      ],
      "metadata": {
        "colab": {
          "base_uri": "https://localhost:8080/"
        },
        "id": "KP7xqkjmQxiJ",
        "outputId": "5848dc3d-4bc6-4b09-e981-2c9c25ee1117"
      },
      "execution_count": 4,
      "outputs": [
        {
          "output_type": "stream",
          "name": "stdout",
          "text": [
            "Your roll number is 57\n"
          ]
        }
      ]
    },
    {
      "cell_type": "code",
      "source": [
        "def Zahra(x):\n",
        "  print(\"Your roll number is\",x)"
      ],
      "metadata": {
        "id": "VY68Sta4Qyym"
      },
      "execution_count": 12,
      "outputs": []
    },
    {
      "cell_type": "code",
      "source": [
        "z=int(input(\"Enter your roll number: \"))\n",
        "Zahra(z)"
      ],
      "metadata": {
        "colab": {
          "base_uri": "https://localhost:8080/"
        },
        "id": "dSo-1NOLRRG5",
        "outputId": "2d7a6ffa-ca3a-44a9-fde3-3bc90430418e"
      },
      "execution_count": 13,
      "outputs": [
        {
          "output_type": "stream",
          "name": "stdout",
          "text": [
            "Enter your roll number: 57\n",
            "Your roll number is 57\n"
          ]
        }
      ]
    },
    {
      "cell_type": "code",
      "source": [
        "def details():\n",
        "  name=input(\"Enter your name: \")\n",
        "  roll_no=int(input(\"Enter your roll number: \"))\n",
        "  email_id=input(\"Enter your email ID: \")\n",
        "  place=input(\"Enter your place: \")\n",
        "  print(\"\\n\")\n",
        "  print(\"Your name is\",name)\n",
        "  print(\"Your roll number is\",roll_no)\n",
        "  print(\"Your email ID is\",email_id)\n",
        "  print(\"Your place is\",place)"
      ],
      "metadata": {
        "id": "R4C6Q2d4RYT1"
      },
      "execution_count": 17,
      "outputs": []
    },
    {
      "cell_type": "code",
      "source": [
        "details()"
      ],
      "metadata": {
        "colab": {
          "base_uri": "https://localhost:8080/"
        },
        "id": "96l1EwXpTnQW",
        "outputId": "aa36ea77-133b-4a09-8696-087b1d9b7978"
      },
      "execution_count": 18,
      "outputs": [
        {
          "output_type": "stream",
          "name": "stdout",
          "text": [
            "Enter your name: Zahra\n",
            "Enter your roll number: 57\n",
            "Enter your email ID: m1ca239@rajagiri.edu\n",
            "Enter your place: Ernakulam\n",
            "\n",
            "\n",
            "Your name is Zahra\n",
            "Your roll number is 57\n",
            "Your email ID is m1ca239@rajagiri.edu\n",
            "Your place is Ernakulam\n"
          ]
        }
      ]
    },
    {
      "cell_type": "code",
      "source": [
        "x=input(\"Enter your full name: \")\n",
        "a=x.split(\" \",1)\n",
        "def name1():\n",
        "  fname=a[0]\n",
        "  print(\"Your first name is\",fname)\n",
        "def name2():\n",
        "  sname=a[1]\n",
        "  print(\"Your second name is\",sname)"
      ],
      "metadata": {
        "colab": {
          "base_uri": "https://localhost:8080/"
        },
        "id": "RK9DKfPKToxQ",
        "outputId": "af33bfd3-0b2f-48a5-9636-9dc23f80af58"
      },
      "execution_count": 30,
      "outputs": [
        {
          "name": "stdout",
          "output_type": "stream",
          "text": [
            "Enter your full name: Zahra Fathima Suhesh\n"
          ]
        }
      ]
    },
    {
      "cell_type": "code",
      "source": [
        "name1()\n",
        "name2()"
      ],
      "metadata": {
        "colab": {
          "base_uri": "https://localhost:8080/"
        },
        "id": "0hm3lajyXHgj",
        "outputId": "7fa9ab6c-3917-49d8-ec0b-015b8591b9e5"
      },
      "execution_count": 31,
      "outputs": [
        {
          "output_type": "stream",
          "name": "stdout",
          "text": [
            "Your first name is Zahra\n",
            "Your second name is Fathima Suhesh\n"
          ]
        }
      ]
    },
    {
      "cell_type": "code",
      "source": [
        "def sawp(n,n1):\n",
        "  temp=n\n",
        "  n=n1\n",
        "  n1=temp\n",
        "  print(\"swap no\",n)\n",
        "  print(\"swap no\",n1)"
      ],
      "metadata": {
        "id": "fmArv4EfYSY2"
      },
      "execution_count": 32,
      "outputs": []
    },
    {
      "cell_type": "code",
      "source": [
        "n=input(\"enter number: \")\n",
        "n1=input(\"enter number: \")"
      ],
      "metadata": {
        "colab": {
          "base_uri": "https://localhost:8080/"
        },
        "id": "Q663wsiFesIp",
        "outputId": "26ea5cb0-fc2c-4d4c-cea4-cfb9388c5883"
      },
      "execution_count": 33,
      "outputs": [
        {
          "name": "stdout",
          "output_type": "stream",
          "text": [
            "enter number: 50\n",
            "enter number: 10\n"
          ]
        }
      ]
    },
    {
      "cell_type": "code",
      "source": [
        "sawp(n,n1)"
      ],
      "metadata": {
        "colab": {
          "base_uri": "https://localhost:8080/"
        },
        "id": "MfUu-6Y7e105",
        "outputId": "8f51943a-9d5c-40de-8fa3-97e434c26b2a"
      },
      "execution_count": 35,
      "outputs": [
        {
          "output_type": "stream",
          "name": "stdout",
          "text": [
            "swap no 10\n",
            "swap no 50\n"
          ]
        }
      ]
    },
    {
      "cell_type": "code",
      "source": [],
      "metadata": {
        "id": "u2ewyaBPhps3"
      },
      "execution_count": null,
      "outputs": []
    }
  ]
}