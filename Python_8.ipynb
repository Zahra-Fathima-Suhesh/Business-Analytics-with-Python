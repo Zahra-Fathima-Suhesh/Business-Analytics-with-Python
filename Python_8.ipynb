{
  "nbformat": 4,
  "nbformat_minor": 0,
  "metadata": {
    "colab": {
      "provenance": [],
      "authorship_tag": "ABX9TyPvgjpT/zxQwTiixK9gn3dR",
      "include_colab_link": true
    },
    "kernelspec": {
      "name": "python3",
      "display_name": "Python 3"
    },
    "language_info": {
      "name": "python"
    }
  },
  "cells": [
    {
      "cell_type": "markdown",
      "metadata": {
        "id": "view-in-github",
        "colab_type": "text"
      },
      "source": [
        "<a href=\"https://colab.research.google.com/github/Zahra-Fathima-Suhesh/Business-Analytics-with-Python/blob/main/Python_8.ipynb\" target=\"_parent\"><img src=\"https://colab.research.google.com/assets/colab-badge.svg\" alt=\"Open In Colab\"/></a>"
      ]
    },
    {
      "cell_type": "code",
      "execution_count": null,
      "metadata": {
        "colab": {
          "base_uri": "https://localhost:8080/"
        },
        "id": "FKkNfHW3xYnS",
        "outputId": "f6304075-1c9c-49bc-8234-1a330fc1c260"
      },
      "outputs": [
        {
          "output_type": "stream",
          "name": "stdout",
          "text": [
            "This is \"Python\" programming\n"
          ]
        }
      ],
      "source": [
        "x=\"This is \\\"Python\\\" programming\"\n",
        "print(x)"
      ]
    },
    {
      "cell_type": "code",
      "source": [
        "x=\"This is 'Python' programming\"\n",
        "print(x)"
      ],
      "metadata": {
        "colab": {
          "base_uri": "https://localhost:8080/"
        },
        "id": "tyUuyseyxru7",
        "outputId": "2d98d865-011a-4ced-ceee-8dde6d87ad5c"
      },
      "execution_count": null,
      "outputs": [
        {
          "output_type": "stream",
          "name": "stdout",
          "text": [
            "This is 'Python' programming\n"
          ]
        }
      ]
    },
    {
      "cell_type": "code",
      "source": [
        "x='This is \"Python\" programming'\n",
        "print(x)"
      ],
      "metadata": {
        "colab": {
          "base_uri": "https://localhost:8080/"
        },
        "id": "dmD_DP18x1Yl",
        "outputId": "ed83546a-e695-4443-a82f-ce8b60d11593"
      },
      "execution_count": null,
      "outputs": [
        {
          "output_type": "stream",
          "name": "stdout",
          "text": [
            "This is \"Python\" programming\n"
          ]
        }
      ]
    },
    {
      "cell_type": "code",
      "source": [
        "print(\"\\\"Zahra\\\" Fathima Suhesh\")"
      ],
      "metadata": {
        "colab": {
          "base_uri": "https://localhost:8080/"
        },
        "id": "HrLtP3YXx5Bj",
        "outputId": "61cf1a19-55d8-4081-c616-68e39551cc88"
      },
      "execution_count": null,
      "outputs": [
        {
          "output_type": "stream",
          "name": "stdout",
          "text": [
            "\"Zahra\" Fathima Suhesh\n"
          ]
        }
      ]
    },
    {
      "cell_type": "code",
      "source": [
        "print(\"He's a doctor\")"
      ],
      "metadata": {
        "colab": {
          "base_uri": "https://localhost:8080/"
        },
        "id": "X_y5m5360aKl",
        "outputId": "836867b7-7916-46ca-ea05-65bf4400ca5a"
      },
      "execution_count": null,
      "outputs": [
        {
          "output_type": "stream",
          "name": "stdout",
          "text": [
            "He's a doctor\n"
          ]
        }
      ]
    },
    {
      "cell_type": "code",
      "source": [
        "print(\"Zahra Fathima \\n Suhesh\")"
      ],
      "metadata": {
        "colab": {
          "base_uri": "https://localhost:8080/"
        },
        "id": "8E7mHmfE0e2w",
        "outputId": "882ddf0b-367a-4d31-fab0-8e005fb4e27c"
      },
      "execution_count": null,
      "outputs": [
        {
          "output_type": "stream",
          "name": "stdout",
          "text": [
            "Zahra Fathima \n",
            " Suhesh\n"
          ]
        }
      ]
    },
    {
      "cell_type": "code",
      "source": [
        "x=[\"John\",\"Mary\",\"David\",\"Adam\"]\n",
        "x.insert(2,\"James\")\n",
        "print(x)"
      ],
      "metadata": {
        "colab": {
          "base_uri": "https://localhost:8080/"
        },
        "id": "CYU_Mc3C1KUo",
        "outputId": "b0c3b0b9-3b9d-49c8-f9e7-6a9bd5740c82"
      },
      "execution_count": null,
      "outputs": [
        {
          "output_type": "stream",
          "name": "stdout",
          "text": [
            "['John', 'Mary', 'James', 'David', 'Adam']\n"
          ]
        }
      ]
    },
    {
      "cell_type": "code",
      "source": [
        "x=[\"John\",\"Mary\",\"David\",\"Adam\"]\n",
        "a=input(\"Enter your name: \")\n",
        "b=int(input(\"Enter index: \"))\n",
        "x.insert(b,a)\n",
        "print(x)"
      ],
      "metadata": {
        "id": "H8S6rGHY2Hp_",
        "colab": {
          "base_uri": "https://localhost:8080/"
        },
        "outputId": "e6dc803d-260e-40d5-97b8-f22f53cb3954"
      },
      "execution_count": 27,
      "outputs": [
        {
          "output_type": "stream",
          "name": "stdout",
          "text": [
            "Enter your name: zahra\n",
            "Enter index: 2\n",
            "['John', 'Mary', 'zahra', 'David', 'Adam']\n"
          ]
        }
      ]
    },
    {
      "cell_type": "code",
      "source": [
        "def Zahra():\n",
        "  a=int(input(\"Enter index: \"))\n",
        "  b=input(\"Enter a name: \")\n",
        "  x.insert(a,b)\n",
        "  print(x)"
      ],
      "metadata": {
        "id": "ItQYPTdQ5WsN"
      },
      "execution_count": 28,
      "outputs": []
    },
    {
      "cell_type": "code",
      "source": [
        "Zahra()"
      ],
      "metadata": {
        "colab": {
          "base_uri": "https://localhost:8080/"
        },
        "id": "eR2LqA1V-Ptu",
        "outputId": "414746db-c3ee-402b-9682-0f4bbc83cc21"
      },
      "execution_count": 30,
      "outputs": [
        {
          "output_type": "stream",
          "name": "stdout",
          "text": [
            "Enter index: 1\n",
            "Enter a name: Fathima\n",
            "['John', 'Fathima', 'Mary', 'zahra', 'David', 'Adam']\n"
          ]
        }
      ]
    },
    {
      "cell_type": "code",
      "source": [
        "def Zahra1():\n",
        "  x=int(input(\"Enter Number: \"))\n",
        "  y=int(input(\"Enter a Number: \"))\n",
        "  print(x+y)\n",
        "  print(x*y)\n",
        "  print(x/y)\n",
        "  print(x-y)"
      ],
      "metadata": {
        "id": "_5Fd2gSf-R8E"
      },
      "execution_count": 31,
      "outputs": []
    },
    {
      "cell_type": "code",
      "source": [
        "Zahra1()"
      ],
      "metadata": {
        "colab": {
          "base_uri": "https://localhost:8080/"
        },
        "id": "E9bCXzJ-_mwb",
        "outputId": "97ff1ff7-d402-417d-cb5e-36bd749fc1a9"
      },
      "execution_count": 32,
      "outputs": [
        {
          "output_type": "stream",
          "name": "stdout",
          "text": [
            "Enter Number: 10\n",
            "Enter a Number: 20\n",
            "30\n",
            "200\n",
            "0.5\n",
            "-10\n"
          ]
        }
      ]
    },
    {
      "cell_type": "code",
      "source": [
        "def math(a,b):\n",
        "  print(a+b)"
      ],
      "metadata": {
        "id": "_JH_WrfQ_qe7"
      },
      "execution_count": 33,
      "outputs": []
    },
    {
      "cell_type": "code",
      "source": [
        "x=int(input(\"Enter first value: \"))\n",
        "y=int(input(\"Enter second value: \"))\n",
        "a=x\n",
        "b=y\n",
        "math(a,b)"
      ],
      "metadata": {
        "colab": {
          "base_uri": "https://localhost:8080/"
        },
        "id": "T2MaOCJeEWWw",
        "outputId": "23f98cb1-b5ff-4040-a97b-7c19fef299b1"
      },
      "execution_count": 36,
      "outputs": [
        {
          "output_type": "stream",
          "name": "stdout",
          "text": [
            "Enter first value: 10\n",
            "Enter second value: 12\n",
            "22\n"
          ]
        }
      ]
    },
    {
      "cell_type": "code",
      "source": [
        "def ann():\n",
        "  x=int(input(\"Enter Number: \"))\n",
        "  y=int(input(\"Enter a Number: \"))\n",
        "  print(x+y)\n",
        "  print(x*y)\n",
        "  print(x/y)\n",
        "   \n"
      ],
      "metadata": {
        "id": "Hq4VaEj7Ejpu"
      },
      "execution_count": 37,
      "outputs": []
    },
    {
      "cell_type": "code",
      "source": [
        "ann()"
      ],
      "metadata": {
        "colab": {
          "base_uri": "https://localhost:8080/"
        },
        "id": "0-HJaGWDFbxf",
        "outputId": "5abdaf21-582e-497e-e33c-5ef854afa2af"
      },
      "execution_count": 38,
      "outputs": [
        {
          "output_type": "stream",
          "name": "stdout",
          "text": [
            "Enter Number: 55\n",
            "Enter a Number: 11\n",
            "66\n",
            "605\n",
            "5.0\n",
            "44\n"
          ]
        }
      ]
    },
    {
      "cell_type": "code",
      "source": [
        "def ann1():\n",
        "   print(x+y)"
      ],
      "metadata": {
        "id": "JuVrvoeIFdbD"
      },
      "execution_count": 39,
      "outputs": []
    },
    {
      "cell_type": "code",
      "source": [
        "def ann2():\n",
        "  print(x*y)"
      ],
      "metadata": {
        "id": "DzAMHczQGhqg"
      },
      "execution_count": 40,
      "outputs": []
    },
    {
      "cell_type": "code",
      "source": [
        "def ann3():\n",
        "  print(x/y)"
      ],
      "metadata": {
        "id": "eNUkP1cCGjyO"
      },
      "execution_count": 41,
      "outputs": []
    },
    {
      "cell_type": "code",
      "source": [
        "def ann4():\n",
        "  print(x-y)"
      ],
      "metadata": {
        "id": "y0hguX2eGokv"
      },
      "execution_count": 51,
      "outputs": []
    },
    {
      "cell_type": "code",
      "source": [
        "ann1()"
      ],
      "metadata": {
        "colab": {
          "base_uri": "https://localhost:8080/"
        },
        "id": "mrrd1GisG_2W",
        "outputId": "b06a7c4e-3988-40e3-dea5-58d8ce16ca46"
      },
      "execution_count": 47,
      "outputs": [
        {
          "output_type": "stream",
          "name": "stdout",
          "text": [
            "22\n"
          ]
        }
      ]
    },
    {
      "cell_type": "code",
      "source": [
        "ann2()"
      ],
      "metadata": {
        "colab": {
          "base_uri": "https://localhost:8080/"
        },
        "id": "Mi0CAdd-HCuN",
        "outputId": "3854529c-e5ec-4d56-e318-b1facc9c9771"
      },
      "execution_count": 48,
      "outputs": [
        {
          "output_type": "stream",
          "name": "stdout",
          "text": [
            "120\n"
          ]
        }
      ]
    },
    {
      "cell_type": "code",
      "source": [
        "ann3()"
      ],
      "metadata": {
        "colab": {
          "base_uri": "https://localhost:8080/"
        },
        "id": "JYWp6GWcHFG1",
        "outputId": "7db766a0-e5c5-4a7c-81ce-087d72a09a47"
      },
      "execution_count": 49,
      "outputs": [
        {
          "output_type": "stream",
          "name": "stdout",
          "text": [
            "0.8333333333333334\n"
          ]
        }
      ]
    },
    {
      "cell_type": "code",
      "source": [
        "ann4()"
      ],
      "metadata": {
        "colab": {
          "base_uri": "https://localhost:8080/"
        },
        "id": "OPfTJ9nZHQsd",
        "outputId": "e93a6e88-a12f-4493-ac5a-37188d088fd8"
      },
      "execution_count": 52,
      "outputs": [
        {
          "output_type": "stream",
          "name": "stdout",
          "text": [
            "-2\n"
          ]
        }
      ]
    },
    {
      "cell_type": "code",
      "source": [],
      "metadata": {
        "id": "lgNuQ34AHR_s"
      },
      "execution_count": null,
      "outputs": []
    }
  ]
}