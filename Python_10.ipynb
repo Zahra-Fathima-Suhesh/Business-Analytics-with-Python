{
  "nbformat": 4,
  "nbformat_minor": 0,
  "metadata": {
    "colab": {
      "provenance": [],
      "authorship_tag": "ABX9TyMqr/9A9GmjHb4yHteXusYX",
      "include_colab_link": true
    },
    "kernelspec": {
      "name": "python3",
      "display_name": "Python 3"
    },
    "language_info": {
      "name": "python"
    }
  },
  "cells": [
    {
      "cell_type": "markdown",
      "metadata": {
        "id": "view-in-github",
        "colab_type": "text"
      },
      "source": [
        "<a href=\"https://colab.research.google.com/github/Zahra-Fathima-Suhesh/Business-Analytics-with-Python/blob/main/Python_10.ipynb\" target=\"_parent\"><img src=\"https://colab.research.google.com/assets/colab-badge.svg\" alt=\"Open In Colab\"/></a>"
      ]
    },
    {
      "cell_type": "code",
      "execution_count": 14,
      "metadata": {
        "id": "Uv_q_5_sZiG3"
      },
      "outputs": [],
      "source": [
        "x=[5,6,6,4,3,7,3,56,4,56]\n",
        "def add(x):\n",
        "  a=0\n",
        "  for i in x:\n",
        "    a=a+i\n",
        "  print(\"The sum of the items in the list is:\",a)"
      ]
    },
    {
      "cell_type": "code",
      "source": [
        "add(x)"
      ],
      "metadata": {
        "colab": {
          "base_uri": "https://localhost:8080/"
        },
        "id": "A3EwYyJmaspN",
        "outputId": "6762698e-1cfa-4304-d342-a4920e1120c3"
      },
      "execution_count": 15,
      "outputs": [
        {
          "output_type": "stream",
          "name": "stdout",
          "text": [
            "The sum of the items in the list is: 150\n"
          ]
        }
      ]
    },
    {
      "cell_type": "code",
      "source": [
        "x=[5,6,6,4,3,7,3,56,4,56]\n",
        "def even():\n",
        "  for i in x:\n",
        "    if i%2==0:\n",
        "      print(i)"
      ],
      "metadata": {
        "id": "hwYJmfFJbsw9"
      },
      "execution_count": 20,
      "outputs": []
    },
    {
      "cell_type": "code",
      "source": [
        "even()"
      ],
      "metadata": {
        "colab": {
          "base_uri": "https://localhost:8080/"
        },
        "id": "WMg1DOfud10O",
        "outputId": "0741fc2f-337e-45d0-e7d2-b31b830380b5"
      },
      "execution_count": 21,
      "outputs": [
        {
          "output_type": "stream",
          "name": "stdout",
          "text": [
            "6\n",
            "6\n",
            "4\n",
            "56\n",
            "4\n",
            "56\n"
          ]
        }
      ]
    },
    {
      "cell_type": "code",
      "source": [
        "x=[5,6,6,4,3,7,3,56,4,56]\n",
        "def odd():\n",
        "  for i in x:\n",
        "    if i%2==1:\n",
        "      print(i)"
      ],
      "metadata": {
        "id": "ukAGNRDed3Gz"
      },
      "execution_count": 23,
      "outputs": []
    },
    {
      "cell_type": "code",
      "source": [
        "odd()"
      ],
      "metadata": {
        "colab": {
          "base_uri": "https://localhost:8080/"
        },
        "id": "K_Lu8nmpd7Fl",
        "outputId": "998adb9c-4c93-4a63-d43d-7713ea150009"
      },
      "execution_count": 24,
      "outputs": [
        {
          "output_type": "stream",
          "name": "stdout",
          "text": [
            "5\n",
            "3\n",
            "7\n",
            "3\n"
          ]
        }
      ]
    },
    {
      "cell_type": "code",
      "source": [
        "x=\"Python is a high-level, general-purpose programming language.\"\n",
        "def python():\n",
        "  a=x.replace(\"a\",\"\")\n",
        "  b=a.replace(\"e\",\"\")\n",
        "  c=b.replace(\"i\",\"\")\n",
        "  d=c.replace(\"o\",\"\")\n",
        "  e=d.replace(\"u\",\"\")\n",
        "  print(e)"
      ],
      "metadata": {
        "id": "QEMkcMcseL47"
      },
      "execution_count": 55,
      "outputs": []
    },
    {
      "cell_type": "code",
      "source": [
        "python()"
      ],
      "metadata": {
        "colab": {
          "base_uri": "https://localhost:8080/"
        },
        "id": "mjcM3BHRhueb",
        "outputId": "7fdd8894-a557-4936-b962-0d2ac7cc1a37"
      },
      "execution_count": 56,
      "outputs": [
        {
          "output_type": "stream",
          "name": "stdout",
          "text": [
            "Pythn s  hgh-lvl, gnrl-prps prgrmmng lngg.\n"
          ]
        }
      ]
    }
  ]
}