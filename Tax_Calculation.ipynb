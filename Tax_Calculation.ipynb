{
  "cells": [
    {
      "cell_type": "markdown",
      "metadata": {
        "id": "view-in-github",
        "colab_type": "text"
      },
      "source": [
        "<a href=\"https://colab.research.google.com/github/Zahra-Fathima-Suhesh/Business-Analytics-with-Python/blob/main/Tax_Calculation.ipynb\" target=\"_parent\"><img src=\"https://colab.research.google.com/assets/colab-badge.svg\" alt=\"Open In Colab\"/></a>"
      ]
    },
    {
      "cell_type": "code",
      "execution_count": null,
      "metadata": {
        "colab": {
          "background_save": true
        },
        "id": "i8MtGSbaRXK9"
      },
      "outputs": [],
      "source": [
        "s=int(input(\"Enter your salary:\"))\n",
        "if s>250000 and s<500000:\n",
        "  q=s-250000\n",
        "  t1=q*5/100\n",
        "  print(\"Tax to be paid is Rs.\",t1)\n",
        "elif s>500000 and s<750000:\n",
        "  q=s-500000\n",
        "  t1=q*10/100\n",
        "  w=500000-250000\n",
        "  t2=w*5/100\n",
        "  tax=t1+t2\n",
        "  print(\"Tax to be paid is Rs.\",tax)\n",
        "elif s>750000 and s<1000000:\n",
        "  q=s-750000\n",
        "  t1=q*20/100\n",
        "  w=500000-250000\n",
        "  t2=w*5/100\n",
        "  e=750000-500000\n",
        "  t3=e*10/100\n",
        "  tax=t1+t2+t3\n",
        "  print(\"Tax to be paid is Rs.\",tax)\n",
        "elif s>1000000:\n",
        "  q=s-1000000\n",
        "  t1=q*30/100\n",
        "  w=500000-250000\n",
        "  t2=w*5/100\n",
        "  e=750000-500000\n",
        "  t3=e*10/100\n",
        "  r=1000000-750000\n",
        "  t4=r*20/100\n",
        "  tax=t1+t2+t3+t4\n",
        "  print(\"Tax to be paid is Rs.\",tax)"
      ]
    }
  ],
  "metadata": {
    "colab": {
      "collapsed_sections": [],
      "name": "Tax Calculation.ipynb",
      "provenance": [],
      "authorship_tag": "ABX9TyOAtQFG4I2UyCiZ6XhuyydN",
      "include_colab_link": true
    },
    "kernelspec": {
      "display_name": "Python 3",
      "name": "python3"
    },
    "language_info": {
      "name": "python"
    }
  },
  "nbformat": 4,
  "nbformat_minor": 0
}