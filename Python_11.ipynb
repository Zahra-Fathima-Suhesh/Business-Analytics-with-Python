{
  "nbformat": 4,
  "nbformat_minor": 0,
  "metadata": {
    "colab": {
      "provenance": [],
      "authorship_tag": "ABX9TyOK4IFsy4cukbsRk2CfgIW1",
      "include_colab_link": true
    },
    "kernelspec": {
      "name": "python3",
      "display_name": "Python 3"
    },
    "language_info": {
      "name": "python"
    }
  },
  "cells": [
    {
      "cell_type": "markdown",
      "metadata": {
        "id": "view-in-github",
        "colab_type": "text"
      },
      "source": [
        "<a href=\"https://colab.research.google.com/github/Zahra-Fathima-Suhesh/Business-Analytics-with-Python/blob/main/Python_11.ipynb\" target=\"_parent\"><img src=\"https://colab.research.google.com/assets/colab-badge.svg\" alt=\"Open In Colab\"/></a>"
      ]
    },
    {
      "cell_type": "code",
      "execution_count": 1,
      "metadata": {
        "id": "oFZ8MalfgGKY"
      },
      "outputs": [],
      "source": [
        "import numpy as np\n",
        "import matplotlib.pyplot as plt\n",
        "import pandas as pd"
      ]
    },
    {
      "cell_type": "code",
      "source": [
        "df=pd.read_csv(\"/content/RELIANCE.NS.csv\")\n",
        "df"
      ],
      "metadata": {
        "colab": {
          "base_uri": "https://localhost:8080/",
          "height": 424
        },
        "id": "673_5mO4gfLE",
        "outputId": "ee61bd75-8630-460b-dab2-0440499f0fd0"
      },
      "execution_count": 3,
      "outputs": [
        {
          "output_type": "execute_result",
          "data": {
            "text/plain": [
              "      Date         Open\n",
              "0      1.0  2305.000000\n",
              "1      2.0  2280.100098\n",
              "2      3.0  2243.000000\n",
              "3      4.0  2334.449951\n",
              "4      5.0  2400.000000\n",
              "..     ...          ...\n",
              "245  246.0  2445.000000\n",
              "246  247.0  2424.000000\n",
              "247  248.0  2425.949951\n",
              "248  249.0  2378.000000\n",
              "249  250.0  2372.000000\n",
              "\n",
              "[250 rows x 2 columns]"
            ],
            "text/html": [
              "\n",
              "  <div id=\"df-618d4301-a7c9-42eb-b358-333499a79612\">\n",
              "    <div class=\"colab-df-container\">\n",
              "      <div>\n",
              "<style scoped>\n",
              "    .dataframe tbody tr th:only-of-type {\n",
              "        vertical-align: middle;\n",
              "    }\n",
              "\n",
              "    .dataframe tbody tr th {\n",
              "        vertical-align: top;\n",
              "    }\n",
              "\n",
              "    .dataframe thead th {\n",
              "        text-align: right;\n",
              "    }\n",
              "</style>\n",
              "<table border=\"1\" class=\"dataframe\">\n",
              "  <thead>\n",
              "    <tr style=\"text-align: right;\">\n",
              "      <th></th>\n",
              "      <th>Date</th>\n",
              "      <th>Open</th>\n",
              "    </tr>\n",
              "  </thead>\n",
              "  <tbody>\n",
              "    <tr>\n",
              "      <th>0</th>\n",
              "      <td>1.0</td>\n",
              "      <td>2305.000000</td>\n",
              "    </tr>\n",
              "    <tr>\n",
              "      <th>1</th>\n",
              "      <td>2.0</td>\n",
              "      <td>2280.100098</td>\n",
              "    </tr>\n",
              "    <tr>\n",
              "      <th>2</th>\n",
              "      <td>3.0</td>\n",
              "      <td>2243.000000</td>\n",
              "    </tr>\n",
              "    <tr>\n",
              "      <th>3</th>\n",
              "      <td>4.0</td>\n",
              "      <td>2334.449951</td>\n",
              "    </tr>\n",
              "    <tr>\n",
              "      <th>4</th>\n",
              "      <td>5.0</td>\n",
              "      <td>2400.000000</td>\n",
              "    </tr>\n",
              "    <tr>\n",
              "      <th>...</th>\n",
              "      <td>...</td>\n",
              "      <td>...</td>\n",
              "    </tr>\n",
              "    <tr>\n",
              "      <th>245</th>\n",
              "      <td>246.0</td>\n",
              "      <td>2445.000000</td>\n",
              "    </tr>\n",
              "    <tr>\n",
              "      <th>246</th>\n",
              "      <td>247.0</td>\n",
              "      <td>2424.000000</td>\n",
              "    </tr>\n",
              "    <tr>\n",
              "      <th>247</th>\n",
              "      <td>248.0</td>\n",
              "      <td>2425.949951</td>\n",
              "    </tr>\n",
              "    <tr>\n",
              "      <th>248</th>\n",
              "      <td>249.0</td>\n",
              "      <td>2378.000000</td>\n",
              "    </tr>\n",
              "    <tr>\n",
              "      <th>249</th>\n",
              "      <td>250.0</td>\n",
              "      <td>2372.000000</td>\n",
              "    </tr>\n",
              "  </tbody>\n",
              "</table>\n",
              "<p>250 rows × 2 columns</p>\n",
              "</div>\n",
              "      <button class=\"colab-df-convert\" onclick=\"convertToInteractive('df-618d4301-a7c9-42eb-b358-333499a79612')\"\n",
              "              title=\"Convert this dataframe to an interactive table.\"\n",
              "              style=\"display:none;\">\n",
              "        \n",
              "  <svg xmlns=\"http://www.w3.org/2000/svg\" height=\"24px\"viewBox=\"0 0 24 24\"\n",
              "       width=\"24px\">\n",
              "    <path d=\"M0 0h24v24H0V0z\" fill=\"none\"/>\n",
              "    <path d=\"M18.56 5.44l.94 2.06.94-2.06 2.06-.94-2.06-.94-.94-2.06-.94 2.06-2.06.94zm-11 1L8.5 8.5l.94-2.06 2.06-.94-2.06-.94L8.5 2.5l-.94 2.06-2.06.94zm10 10l.94 2.06.94-2.06 2.06-.94-2.06-.94-.94-2.06-.94 2.06-2.06.94z\"/><path d=\"M17.41 7.96l-1.37-1.37c-.4-.4-.92-.59-1.43-.59-.52 0-1.04.2-1.43.59L10.3 9.45l-7.72 7.72c-.78.78-.78 2.05 0 2.83L4 21.41c.39.39.9.59 1.41.59.51 0 1.02-.2 1.41-.59l7.78-7.78 2.81-2.81c.8-.78.8-2.07 0-2.86zM5.41 20L4 18.59l7.72-7.72 1.47 1.35L5.41 20z\"/>\n",
              "  </svg>\n",
              "      </button>\n",
              "      \n",
              "  <style>\n",
              "    .colab-df-container {\n",
              "      display:flex;\n",
              "      flex-wrap:wrap;\n",
              "      gap: 12px;\n",
              "    }\n",
              "\n",
              "    .colab-df-convert {\n",
              "      background-color: #E8F0FE;\n",
              "      border: none;\n",
              "      border-radius: 50%;\n",
              "      cursor: pointer;\n",
              "      display: none;\n",
              "      fill: #1967D2;\n",
              "      height: 32px;\n",
              "      padding: 0 0 0 0;\n",
              "      width: 32px;\n",
              "    }\n",
              "\n",
              "    .colab-df-convert:hover {\n",
              "      background-color: #E2EBFA;\n",
              "      box-shadow: 0px 1px 2px rgba(60, 64, 67, 0.3), 0px 1px 3px 1px rgba(60, 64, 67, 0.15);\n",
              "      fill: #174EA6;\n",
              "    }\n",
              "\n",
              "    [theme=dark] .colab-df-convert {\n",
              "      background-color: #3B4455;\n",
              "      fill: #D2E3FC;\n",
              "    }\n",
              "\n",
              "    [theme=dark] .colab-df-convert:hover {\n",
              "      background-color: #434B5C;\n",
              "      box-shadow: 0px 1px 3px 1px rgba(0, 0, 0, 0.15);\n",
              "      filter: drop-shadow(0px 1px 2px rgba(0, 0, 0, 0.3));\n",
              "      fill: #FFFFFF;\n",
              "    }\n",
              "  </style>\n",
              "\n",
              "      <script>\n",
              "        const buttonEl =\n",
              "          document.querySelector('#df-618d4301-a7c9-42eb-b358-333499a79612 button.colab-df-convert');\n",
              "        buttonEl.style.display =\n",
              "          google.colab.kernel.accessAllowed ? 'block' : 'none';\n",
              "\n",
              "        async function convertToInteractive(key) {\n",
              "          const element = document.querySelector('#df-618d4301-a7c9-42eb-b358-333499a79612');\n",
              "          const dataTable =\n",
              "            await google.colab.kernel.invokeFunction('convertToInteractive',\n",
              "                                                     [key], {});\n",
              "          if (!dataTable) return;\n",
              "\n",
              "          const docLinkHtml = 'Like what you see? Visit the ' +\n",
              "            '<a target=\"_blank\" href=https://colab.research.google.com/notebooks/data_table.ipynb>data table notebook</a>'\n",
              "            + ' to learn more about interactive tables.';\n",
              "          element.innerHTML = '';\n",
              "          dataTable['output_type'] = 'display_data';\n",
              "          await google.colab.output.renderOutput(dataTable, element);\n",
              "          const docLink = document.createElement('div');\n",
              "          docLink.innerHTML = docLinkHtml;\n",
              "          element.appendChild(docLink);\n",
              "        }\n",
              "      </script>\n",
              "    </div>\n",
              "  </div>\n",
              "  "
            ]
          },
          "metadata": {},
          "execution_count": 3
        }
      ]
    },
    {
      "cell_type": "code",
      "source": [
        "x=df.iloc[0:5].values\n",
        "x"
      ],
      "metadata": {
        "colab": {
          "base_uri": "https://localhost:8080/"
        },
        "id": "DST08AY-lx-o",
        "outputId": "982a2d6e-7d73-402f-8e4b-738384d041b4"
      },
      "execution_count": 5,
      "outputs": [
        {
          "output_type": "execute_result",
          "data": {
            "text/plain": [
              "array([[1.00000000e+00, 2.30500000e+03],\n",
              "       [2.00000000e+00, 2.28010010e+03],\n",
              "       [3.00000000e+00, 2.24300000e+03],\n",
              "       [4.00000000e+00, 2.33444995e+03],\n",
              "       [5.00000000e+00, 2.40000000e+03]])"
            ]
          },
          "metadata": {},
          "execution_count": 5
        }
      ]
    },
    {
      "cell_type": "code",
      "source": [
        "x=df.iloc[:]\n",
        "print(x)"
      ],
      "metadata": {
        "colab": {
          "base_uri": "https://localhost:8080/"
        },
        "id": "MF4aI30do03c",
        "outputId": "148f27b8-ff2f-49fd-8547-44be6344fd3a"
      },
      "execution_count": 8,
      "outputs": [
        {
          "output_type": "stream",
          "name": "stdout",
          "text": [
            "      Date         Open\n",
            "0      1.0  2305.000000\n",
            "1      2.0  2280.100098\n",
            "2      3.0  2243.000000\n",
            "3      4.0  2334.449951\n",
            "4      5.0  2400.000000\n",
            "..     ...          ...\n",
            "245  246.0  2445.000000\n",
            "246  247.0  2424.000000\n",
            "247  248.0  2425.949951\n",
            "248  249.0  2378.000000\n",
            "249  250.0  2372.000000\n",
            "\n",
            "[250 rows x 2 columns]\n"
          ]
        }
      ]
    },
    {
      "cell_type": "code",
      "source": [
        "x=df.iloc[:,:-1]\n",
        "print(x)"
      ],
      "metadata": {
        "colab": {
          "base_uri": "https://localhost:8080/"
        },
        "id": "WxY2jhZVpxW7",
        "outputId": "ca1a5229-79b3-4ddd-8485-39cba3e5de76"
      },
      "execution_count": 9,
      "outputs": [
        {
          "output_type": "stream",
          "name": "stdout",
          "text": [
            "      Date\n",
            "0      1.0\n",
            "1      2.0\n",
            "2      3.0\n",
            "3      4.0\n",
            "4      5.0\n",
            "..     ...\n",
            "245  246.0\n",
            "246  247.0\n",
            "247  248.0\n",
            "248  249.0\n",
            "249  250.0\n",
            "\n",
            "[250 rows x 1 columns]\n"
          ]
        }
      ]
    },
    {
      "cell_type": "code",
      "source": [
        "x=\"Zahra Fathima Suhesh\"\n",
        "x[0]"
      ],
      "metadata": {
        "colab": {
          "base_uri": "https://localhost:8080/",
          "height": 35
        },
        "id": "1HoJja9FqX7j",
        "outputId": "190839c6-debe-4d7e-82b1-704ec1cd0899"
      },
      "execution_count": 10,
      "outputs": [
        {
          "output_type": "execute_result",
          "data": {
            "text/plain": [
              "'Z'"
            ],
            "application/vnd.google.colaboratory.intrinsic+json": {
              "type": "string"
            }
          },
          "metadata": {},
          "execution_count": 10
        }
      ]
    },
    {
      "cell_type": "code",
      "source": [
        "x[0:1]"
      ],
      "metadata": {
        "colab": {
          "base_uri": "https://localhost:8080/",
          "height": 35
        },
        "id": "FinRZe6GqhsD",
        "outputId": "7020c96d-53a2-4e4b-a4a0-36a6092ae3f7"
      },
      "execution_count": 11,
      "outputs": [
        {
          "output_type": "execute_result",
          "data": {
            "text/plain": [
              "'Z'"
            ],
            "application/vnd.google.colaboratory.intrinsic+json": {
              "type": "string"
            }
          },
          "metadata": {},
          "execution_count": 11
        }
      ]
    },
    {
      "cell_type": "code",
      "source": [
        "x[0:2]"
      ],
      "metadata": {
        "colab": {
          "base_uri": "https://localhost:8080/",
          "height": 35
        },
        "id": "0mW6nVXJqu7k",
        "outputId": "7a39c3bf-da57-4673-dd88-798530121623"
      },
      "execution_count": 12,
      "outputs": [
        {
          "output_type": "execute_result",
          "data": {
            "text/plain": [
              "'Za'"
            ],
            "application/vnd.google.colaboratory.intrinsic+json": {
              "type": "string"
            }
          },
          "metadata": {},
          "execution_count": 12
        }
      ]
    },
    {
      "cell_type": "code",
      "source": [
        "x[:2]"
      ],
      "metadata": {
        "colab": {
          "base_uri": "https://localhost:8080/",
          "height": 35
        },
        "id": "nNHVJzRfq8cr",
        "outputId": "f6652151-ed4e-452c-b99d-52665fbb1f7c"
      },
      "execution_count": 13,
      "outputs": [
        {
          "output_type": "execute_result",
          "data": {
            "text/plain": [
              "'Za'"
            ],
            "application/vnd.google.colaboratory.intrinsic+json": {
              "type": "string"
            }
          },
          "metadata": {},
          "execution_count": 13
        }
      ]
    },
    {
      "cell_type": "code",
      "source": [
        "x=df.iloc[:,0:1]\n",
        "print(x)"
      ],
      "metadata": {
        "colab": {
          "base_uri": "https://localhost:8080/"
        },
        "id": "lRP0KsFGrFgq",
        "outputId": "90a7fe74-4af6-4c95-f4bf-389efb4e034b"
      },
      "execution_count": 14,
      "outputs": [
        {
          "output_type": "stream",
          "name": "stdout",
          "text": [
            "      Date\n",
            "0      1.0\n",
            "1      2.0\n",
            "2      3.0\n",
            "3      4.0\n",
            "4      5.0\n",
            "..     ...\n",
            "245  246.0\n",
            "246  247.0\n",
            "247  248.0\n",
            "248  249.0\n",
            "249  250.0\n",
            "\n",
            "[250 rows x 1 columns]\n"
          ]
        }
      ]
    },
    {
      "cell_type": "code",
      "source": [
        "x=df.iloc[:,0:1].values\n",
        "print(x)"
      ],
      "metadata": {
        "colab": {
          "base_uri": "https://localhost:8080/"
        },
        "id": "4SWWyvtksm2k",
        "outputId": "92d77afd-2ee1-4ad1-c0ca-f86294b29f2d"
      },
      "execution_count": 20,
      "outputs": [
        {
          "output_type": "stream",
          "name": "stdout",
          "text": [
            "[[  1.]\n",
            " [  2.]\n",
            " [  3.]\n",
            " [  4.]\n",
            " [  5.]\n",
            " [  6.]\n",
            " [  7.]\n",
            " [  8.]\n",
            " [  9.]\n",
            " [ 10.]\n",
            " [ 11.]\n",
            " [ 12.]\n",
            " [ 13.]\n",
            " [ 14.]\n",
            " [ 15.]\n",
            " [ 16.]\n",
            " [ 17.]\n",
            " [ 18.]\n",
            " [ 19.]\n",
            " [ 20.]\n",
            " [ 21.]\n",
            " [ 22.]\n",
            " [ 23.]\n",
            " [ 24.]\n",
            " [ 25.]\n",
            " [ 26.]\n",
            " [ 27.]\n",
            " [ 28.]\n",
            " [ 29.]\n",
            " [ 30.]\n",
            " [ 31.]\n",
            " [ 32.]\n",
            " [ 33.]\n",
            " [ 34.]\n",
            " [ 35.]\n",
            " [ 36.]\n",
            " [ 37.]\n",
            " [ 38.]\n",
            " [ 39.]\n",
            " [ 40.]\n",
            " [ 41.]\n",
            " [ 42.]\n",
            " [ 43.]\n",
            " [ 44.]\n",
            " [ 45.]\n",
            " [ 46.]\n",
            " [ 47.]\n",
            " [ 48.]\n",
            " [ 49.]\n",
            " [ 50.]\n",
            " [ 51.]\n",
            " [ 52.]\n",
            " [ 53.]\n",
            " [ 54.]\n",
            " [ 55.]\n",
            " [ 56.]\n",
            " [ 57.]\n",
            " [ 58.]\n",
            " [ 59.]\n",
            " [ 60.]\n",
            " [ 61.]\n",
            " [ 62.]\n",
            " [ 63.]\n",
            " [ 64.]\n",
            " [ 65.]\n",
            " [ 66.]\n",
            " [ 67.]\n",
            " [ 68.]\n",
            " [ 69.]\n",
            " [ 70.]\n",
            " [ 71.]\n",
            " [ 72.]\n",
            " [ 73.]\n",
            " [ 74.]\n",
            " [ 75.]\n",
            " [ 76.]\n",
            " [ 77.]\n",
            " [ 78.]\n",
            " [ 79.]\n",
            " [ 80.]\n",
            " [ 81.]\n",
            " [ 82.]\n",
            " [ 83.]\n",
            " [ 84.]\n",
            " [ 85.]\n",
            " [ 86.]\n",
            " [ 87.]\n",
            " [ 88.]\n",
            " [ 89.]\n",
            " [ 90.]\n",
            " [ 91.]\n",
            " [ 92.]\n",
            " [ 93.]\n",
            " [ 94.]\n",
            " [ 95.]\n",
            " [ 96.]\n",
            " [ 97.]\n",
            " [ 98.]\n",
            " [ 99.]\n",
            " [100.]\n",
            " [101.]\n",
            " [102.]\n",
            " [103.]\n",
            " [104.]\n",
            " [105.]\n",
            " [106.]\n",
            " [107.]\n",
            " [108.]\n",
            " [109.]\n",
            " [110.]\n",
            " [111.]\n",
            " [112.]\n",
            " [113.]\n",
            " [114.]\n",
            " [115.]\n",
            " [116.]\n",
            " [117.]\n",
            " [118.]\n",
            " [119.]\n",
            " [120.]\n",
            " [121.]\n",
            " [122.]\n",
            " [123.]\n",
            " [124.]\n",
            " [125.]\n",
            " [126.]\n",
            " [127.]\n",
            " [128.]\n",
            " [129.]\n",
            " [130.]\n",
            " [131.]\n",
            " [132.]\n",
            " [133.]\n",
            " [134.]\n",
            " [135.]\n",
            " [136.]\n",
            " [137.]\n",
            " [138.]\n",
            " [139.]\n",
            " [140.]\n",
            " [141.]\n",
            " [142.]\n",
            " [143.]\n",
            " [144.]\n",
            " [145.]\n",
            " [146.]\n",
            " [147.]\n",
            " [148.]\n",
            " [149.]\n",
            " [150.]\n",
            " [151.]\n",
            " [152.]\n",
            " [153.]\n",
            " [154.]\n",
            " [155.]\n",
            " [156.]\n",
            " [157.]\n",
            " [158.]\n",
            " [159.]\n",
            " [160.]\n",
            " [161.]\n",
            " [162.]\n",
            " [163.]\n",
            " [164.]\n",
            " [165.]\n",
            " [166.]\n",
            " [167.]\n",
            " [168.]\n",
            " [169.]\n",
            " [170.]\n",
            " [171.]\n",
            " [172.]\n",
            " [173.]\n",
            " [174.]\n",
            " [175.]\n",
            " [176.]\n",
            " [177.]\n",
            " [178.]\n",
            " [179.]\n",
            " [180.]\n",
            " [181.]\n",
            " [182.]\n",
            " [183.]\n",
            " [184.]\n",
            " [185.]\n",
            " [186.]\n",
            " [187.]\n",
            " [188.]\n",
            " [189.]\n",
            " [190.]\n",
            " [191.]\n",
            " [192.]\n",
            " [193.]\n",
            " [194.]\n",
            " [195.]\n",
            " [196.]\n",
            " [197.]\n",
            " [198.]\n",
            " [199.]\n",
            " [200.]\n",
            " [201.]\n",
            " [202.]\n",
            " [203.]\n",
            " [204.]\n",
            " [205.]\n",
            " [206.]\n",
            " [207.]\n",
            " [208.]\n",
            " [209.]\n",
            " [210.]\n",
            " [211.]\n",
            " [212.]\n",
            " [213.]\n",
            " [214.]\n",
            " [215.]\n",
            " [216.]\n",
            " [217.]\n",
            " [218.]\n",
            " [219.]\n",
            " [220.]\n",
            " [221.]\n",
            " [222.]\n",
            " [223.]\n",
            " [224.]\n",
            " [225.]\n",
            " [226.]\n",
            " [227.]\n",
            " [228.]\n",
            " [229.]\n",
            " [230.]\n",
            " [231.]\n",
            " [232.]\n",
            " [233.]\n",
            " [234.]\n",
            " [235.]\n",
            " [236.]\n",
            " [237.]\n",
            " [238.]\n",
            " [239.]\n",
            " [240.]\n",
            " [241.]\n",
            " [242.]\n",
            " [243.]\n",
            " [244.]\n",
            " [245.]\n",
            " [246.]\n",
            " [247.]\n",
            " [248.]\n",
            " [249.]\n",
            " [250.]]\n"
          ]
        }
      ]
    },
    {
      "cell_type": "code",
      "source": [
        "y=df.iloc[:,-1].values\n",
        "print(y)"
      ],
      "metadata": {
        "colab": {
          "base_uri": "https://localhost:8080/"
        },
        "id": "yhekxSPstKpa",
        "outputId": "1fc8564f-a2b8-4dd9-e71d-e90c03536a42"
      },
      "execution_count": 22,
      "outputs": [
        {
          "output_type": "stream",
          "name": "stdout",
          "text": [
            "[2305.       2280.100098 2243.       2334.449951 2400.       2353.\n",
            " 2278.699951 2211.5      2236.       2400.       2376.050049 2386.899902\n",
            " 2427.949951 2382.       2432.75     2444.       2460.100098 2523.\n",
            " 2510.       2582.5      2610.       2638.       2639.899902 2664.949951\n",
            " 2636.       2655.449951 2651.100098 2587.100098 2595.100098 2560.\n",
            " 2600.       2587.       2574.5      2533.       2558.       2657.100098\n",
            " 2750.899902 2758.899902 2742.399902 2710.       2755.850098 2809.949951\n",
            " 2856.149902 2762.       2785.       2723.5      2612.199951 2574.949951\n",
            " 2495.       2472.649902 2427.5      2426.       2434.449951 2435.100098\n",
            " 2539.649902 2484.       2512.5      2631.5      2607.       2635.\n",
            " 2624.399902 2593.050049 2615.       2641.399902 2634.300049 2634.\n",
            " 2744.       2780.       2769.899902 2772.75     2710.       2771.899902\n",
            " 2650.       2650.050049 2617.550049 2623.       2560.       2605.\n",
            " 2560.       2558.100098 2515.050049 2480.       2544.949951 2482.100098\n",
            " 2507.199951 2580.       2574.899902 2378.949951 2423.       2420.100098\n",
            " 2425.899902 2418.       2376.5      2404.       2427.300049 2388.\n",
            " 2415.       2421.       2400.300049 2540.       2494.       2500.\n",
            " 2467.449951 2421.100098 2419.949951 2436.       2474.699951 2519.149902\n",
            " 2572.5      2600.       2610.       2576.       2531.       2576.899902\n",
            " 2603.100098 2590.300049 2646.199951 2665.       2660.       2650.\n",
            " 2617.       2594.       2640.100098 2648.949951 2633.       2585.\n",
            " 2614.       2582.649902 2560.399902 2531.       2573.       2575.\n",
            " 2588.25     2610.       2570.550049 2618.       2575.       2583.\n",
            " 2543.75     2499.199951 2522.449951 2496.75     2486.       2485.\n",
            " 2394.050049 2394.       2360.350098 2360.       2311.       2391.5\n",
            " 2397.800049 2429.       2414.649902 2405.       2414.       2352.\n",
            " 2371.399902 2415.       2355.       2422.       2454.5      2485.\n",
            " 2507.699951 2460.       2499.       2458.       2465.       2541.\n",
            " 2600.       2532.300049 2529.850098 2553.899902 2591.       2610.300049\n",
            " 2590.       2600.       2630.75     2622.300049 2610.       2584.949951\n",
            " 2606.75     2588.       2545.       2575.       2566.       2589.\n",
            " 2608.899902 2703.949951 2712.5      2741.800049 2730.       2712.\n",
            " 2665.100098 2685.       2660.       2646.       2585.5      2613.100098\n",
            " 2637.649902 2602.5      2571.       2581.       2583.899902 2621.\n",
            " 2598.       2563.300049 2514.75     2530.       2538.       2527.\n",
            " 2545.100098 2550.       2565.050049 2557.       2523.5      2526.649902\n",
            " 2545.300049 2606.       2552.5      2524.850098 2458.399902 2472.699951\n",
            " 2458.       2473.5      2472.899902 2475.       2449.       2440.\n",
            " 2412.449951 2384.399902 2331.699951 2382.       2379.949951 2318.\n",
            " 2349.       2315.       2312.       2313.       2353.449951 2354.899902\n",
            " 2340.199951 2329.949951 2376.       2449.449951 2420.       2445.\n",
            " 2424.       2425.949951 2378.       2372.      ]\n"
          ]
        }
      ]
    },
    {
      "cell_type": "code",
      "source": [
        "plt.plot(x,y)\n",
        "plt.show()"
      ],
      "metadata": {
        "colab": {
          "base_uri": "https://localhost:8080/",
          "height": 265
        },
        "id": "oa6Q7wHkuW-F",
        "outputId": "6c3eb3e0-20e7-4e88-b904-08151c782428"
      },
      "execution_count": 24,
      "outputs": [
        {
          "output_type": "display_data",
          "data": {
            "text/plain": [
              "<Figure size 432x288 with 1 Axes>"
            ],
            "image/png": "[encoded data removed]"
          },
          "metadata": {
            "needs_background": "light"
          }
        }
      ]
    },
    {
      "cell_type": "code",
      "source": [
        "from sklearn.linear_model import LinearRegression\n",
        "regressor=LinearRegression()\n",
        "regressor.fit(x,y)"
      ],
      "metadata": {
        "colab": {
          "base_uri": "https://localhost:8080/"
        },
        "id": "51mVZZXEvOK6",
        "outputId": "7517a088-f647-4d94-e844-4336d54fd423"
      },
      "execution_count": 25,
      "outputs": [
        {
          "output_type": "execute_result",
          "data": {
            "text/plain": [
              "LinearRegression()"
            ]
          },
          "metadata": {},
          "execution_count": 25
        }
      ]
    },
    {
      "cell_type": "code",
      "source": [
        "LinearRegression()"
      ],
      "metadata": {
        "colab": {
          "base_uri": "https://localhost:8080/"
        },
        "id": "EHfWhrngv71z",
        "outputId": "573e7f29-c4e3-47f9-a437-89c5a89cd1c9"
      },
      "execution_count": 26,
      "outputs": [
        {
          "output_type": "execute_result",
          "data": {
            "text/plain": [
              "LinearRegression()"
            ]
          },
          "metadata": {},
          "execution_count": 26
        }
      ]
    },
    {
      "cell_type": "code",
      "source": [
        "y_pred=regressor.predict(x)"
      ],
      "metadata": {
        "id": "rzrq1udVv_EL"
      },
      "execution_count": 27,
      "outputs": []
    },
    {
      "cell_type": "code",
      "source": [
        "plt.scatter(x,y,color=\"red\")\n",
        "plt.plot(x,regressor.predict(x),color=\"blue\")\n",
        "plt.xlabel(\"Date\")\n",
        "plt.ylabel(\"Stock price\")\n",
        "plt.show()"
      ],
      "metadata": {
        "colab": {
          "base_uri": "https://localhost:8080/",
          "height": 279
        },
        "id": "mVHUWyY4wEea",
        "outputId": "feea98d2-b0dc-472a-b03e-6922abff3626"
      },
      "execution_count": 30,
      "outputs": [
        {
          "output_type": "display_data",
          "data": {
            "text/plain": [
              "<Figure size 432x288 with 1 Axes>"
            ],
            "image/png": "[encoded data removed]"
          },
          "metadata": {
            "needs_background": "light"
          }
        }
      ]
    },
    {
      "cell_type": "code",
      "source": [],
      "metadata": {
        "id": "poPhwic1wrf2"
      },
      "execution_count": null,
      "outputs": []
    }
  ]
}