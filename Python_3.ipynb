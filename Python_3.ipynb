{
  "nbformat": 4,
  "nbformat_minor": 0,
  "metadata": {
    "colab": {
      "provenance": [],
      "authorship_tag": "ABX9TyNaAMVJIjjEF8j4WcMszWWj",
      "include_colab_link": true
    },
    "kernelspec": {
      "name": "python3",
      "display_name": "Python 3"
    },
    "language_info": {
      "name": "python"
    }
  },
  "cells": [
    {
      "cell_type": "markdown",
      "metadata": {
        "id": "view-in-github",
        "colab_type": "text"
      },
      "source": [
        "<a href=\"https://colab.research.google.com/github/Zahra-Fathima-Suhesh/Business-Analytics-with-Python/blob/main/Python_3.ipynb\" target=\"_parent\"><img src=\"https://colab.research.google.com/assets/colab-badge.svg\" alt=\"Open In Colab\"/></a>"
      ]
    },
    {
      "cell_type": "code",
      "source": [
        "hra=int(input(\"Enter the actual HRA received from the employer per month: \"))\n",
        "ar=int(input(\"Enter the actual monthly rent paid by the employee: \"))\n",
        "s=int(input(\"Enter the salary earned per month: \"))\n",
        "r1=hra*12\n",
        "r2=ar*12-((s*12)*10/100)\n",
        "r3=(s*12)*50/100\n",
        "a=[r1,r2,r3]\n",
        "z=min(a)\n",
        "print(\"You are eligible for a HRA excemption of Rs.\",z)"
      ],
      "metadata": {
        "id": "DLNTXXYSVLto"
      },
      "execution_count": null,
      "outputs": []
    },
    {
      "cell_type": "code",
      "source": [
        "if z<150000:\n",
        "  sal=(s*12)+r1-z\n",
        "else:\n",
        "  sal=(s*12)+r1-150000\n",
        "\n",
        "if sal>250000 and sal<=500000:\n",
        "  x=sal-250000\n",
        "  tax=x*5/100\n",
        "  print(\"You are taxable of Rs.\",tax)\n",
        "\n",
        "elif sal>500000 and sal<=750000:\n",
        "  x=sal-500000\n",
        "  t1=(x*10/100)\n",
        "  t2=(500000-250000)*5/100\n",
        "  tax=t1+t2\n",
        "  print(\"You are taxable of Rs.\",tax)\n",
        "\n",
        "elif sal>750000 and sal<=1000000:\n",
        "  x=sal-750000\n",
        "  t1=(x*15/100)\n",
        "  t2=(500000-250000)*5/100\n",
        "  t3=(750000-500000)*10/100\n",
        "  tax=t1+t2+t3\n",
        "  print(\"You are taxable of Rs.\",tax)\n",
        "\n",
        "elif sal>1000000 and sal<=1250000:\n",
        "  x=sal-1000000\n",
        "  t1=(x*20/100)\n",
        "  t2=(500000-250000)*5/100\n",
        "  t3=(750000-500000)*10/100\n",
        "  t4=(1000000-750000)*15/100\n",
        "  tax=t1+t2+t3+t4\n",
        "  print(\"You are taxable of Rs.\",tax)\n",
        "\n",
        "elif sal>1250000 and sal<=1500000:\n",
        "  x=sal-1250000\n",
        "  t1=(x*25/100)\n",
        "  t2=(500000-250000)*5/100\n",
        "  t3=(750000-500000)*10/100\n",
        "  t4=(1000000-750000)*15/100\n",
        "  t5=(1250000-1000000)*20/100\n",
        "  tax=t1+t2+t3+t4+t5\n",
        "  print(\"You are taxable of Rs.\",tax)\n",
        "\n",
        "elif sal>1500000:\n",
        "  x=sal-1500000\n",
        "  t1=(x*30/100)\n",
        "  t2=(500000-250000)*5/100\n",
        "  t3=(750000-500000)*10/100\n",
        "  t4=(1000000-750000)*15/100\n",
        "  t5=(1250000-1000000)*20/100\n",
        "  t6=(1500000-1250000)*25/100\n",
        "  tax=t1+t2+t3+t4+t5+t6\n",
        "  print(\"You are taxable of Rs.\",tax)\n",
        "\n",
        "else:\n",
        "  print(\"You are not taxable\")"
      ],
      "metadata": {
        "id": "7RAAy51rKAXm"
      },
      "execution_count": null,
      "outputs": []
    }
  ]
}