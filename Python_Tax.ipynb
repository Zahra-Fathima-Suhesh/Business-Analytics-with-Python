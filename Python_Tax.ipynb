{
  "nbformat": 4,
  "nbformat_minor": 0,
  "metadata": {
    "colab": {
      "name": "Python Tax.ipynb",
      "provenance": []
    },
    "kernelspec": {
      "name": "python3",
      "display_name": "Python 3"
    },
    "language_info": {
      "name": "python"
    }
  },
  "cells": [
    {
      "cell_type": "code",
      "execution_count": 13,
      "metadata": {
        "colab": {
          "base_uri": "https://localhost:8080/"
        },
        "id": "lxE9pzJmPUD6",
        "outputId": "40125674-f067-410b-8bd2-f7e146aeb241"
      },
      "outputs": [
        {
          "name": "stdout",
          "output_type": "stream",
          "text": [
            "Enter the first number: 8\n"
          ]
        }
      ],
      "source": [
        "a=int(input(\"Enter the first number: \"))"
      ]
    },
    {
      "cell_type": "code",
      "source": [
        "b=int(input(\"Enter the second number: \"))"
      ],
      "metadata": {
        "colab": {
          "base_uri": "https://localhost:8080/"
        },
        "id": "8Hi0vsG0PkTy",
        "outputId": "9dc0b237-94c4-4889-e7d8-a929e1e9e871"
      },
      "execution_count": 14,
      "outputs": [
        {
          "name": "stdout",
          "output_type": "stream",
          "text": [
            "Enter the second number: 5\n"
          ]
        }
      ]
    },
    {
      "cell_type": "code",
      "source": [
        "print(a+b)"
      ],
      "metadata": {
        "colab": {
          "base_uri": "https://localhost:8080/"
        },
        "id": "jD2DQutBPo-g",
        "outputId": "a9acecc4-9443-474b-b50d-01e6b9a7f3a7"
      },
      "execution_count": 15,
      "outputs": [
        {
          "output_type": "stream",
          "name": "stdout",
          "text": [
            "13\n"
          ]
        }
      ]
    },
    {
      "cell_type": "code",
      "source": [
        "print(a-b)"
      ],
      "metadata": {
        "colab": {
          "base_uri": "https://localhost:8080/"
        },
        "id": "2GJeK3iHPv_U",
        "outputId": "d7e8e963-d386-482b-896c-52749ab77978"
      },
      "execution_count": 16,
      "outputs": [
        {
          "output_type": "stream",
          "name": "stdout",
          "text": [
            "3\n"
          ]
        }
      ]
    },
    {
      "cell_type": "code",
      "source": [
        "print(a*b)"
      ],
      "metadata": {
        "colab": {
          "base_uri": "https://localhost:8080/"
        },
        "id": "mEvxq0sfPysT",
        "outputId": "5ae7397d-ad83-4cf7-c436-c98310023fb9"
      },
      "execution_count": 17,
      "outputs": [
        {
          "output_type": "stream",
          "name": "stdout",
          "text": [
            "40\n"
          ]
        }
      ]
    },
    {
      "cell_type": "code",
      "source": [
        "print(a/b)"
      ],
      "metadata": {
        "colab": {
          "base_uri": "https://localhost:8080/"
        },
        "id": "KdqNtUQlQDcp",
        "outputId": "44a7ab71-34e3-415e-b759-ec37a5a88249"
      },
      "execution_count": 20,
      "outputs": [
        {
          "output_type": "stream",
          "name": "stdout",
          "text": [
            "1.6\n"
          ]
        }
      ]
    },
    {
      "cell_type": "code",
      "source": [
        "p=int(input(\"Enter the principal amount: \"))"
      ],
      "metadata": {
        "colab": {
          "base_uri": "https://localhost:8080/"
        },
        "id": "CCh4dsRBTZzH",
        "outputId": "f864d511-769a-48f0-acc2-de5e8bdaf90c"
      },
      "execution_count": 26,
      "outputs": [
        {
          "name": "stdout",
          "output_type": "stream",
          "text": [
            "Enter the principal amount: 100000\n"
          ]
        }
      ]
    },
    {
      "cell_type": "code",
      "source": [
        "n=int(input(\"Enter the number of years: \"))"
      ],
      "metadata": {
        "colab": {
          "base_uri": "https://localhost:8080/"
        },
        "id": "SGYaZTILTrdQ",
        "outputId": "f96b87ff-e896-4352-c6be-bca455ed5629"
      },
      "execution_count": 27,
      "outputs": [
        {
          "name": "stdout",
          "output_type": "stream",
          "text": [
            "Enter the number of years: 5\n"
          ]
        }
      ]
    },
    {
      "cell_type": "code",
      "source": [
        "r=int(input(\"Enter the rate of interest: \"))/100"
      ],
      "metadata": {
        "colab": {
          "base_uri": "https://localhost:8080/"
        },
        "id": "LvTWkTASUC7Q",
        "outputId": "793c63cd-b98b-4ed7-c3e0-c3d65f5b6e43"
      },
      "execution_count": 31,
      "outputs": [
        {
          "name": "stdout",
          "output_type": "stream",
          "text": [
            "Enter the rate of interest: 8\n"
          ]
        }
      ]
    },
    {
      "cell_type": "code",
      "source": [
        "i=p*n*r"
      ],
      "metadata": {
        "id": "v8wINwMeUS9H"
      },
      "execution_count": 32,
      "outputs": []
    },
    {
      "cell_type": "code",
      "source": [
        "print(i)"
      ],
      "metadata": {
        "colab": {
          "base_uri": "https://localhost:8080/"
        },
        "id": "HyJyCKOxUXcv",
        "outputId": "0a64e578-af62-4034-8f64-ece7d315ec64"
      },
      "execution_count": 33,
      "outputs": [
        {
          "output_type": "stream",
          "name": "stdout",
          "text": [
            "40000.0\n"
          ]
        }
      ]
    },
    {
      "cell_type": "code",
      "source": [
        "x=int(input(\"Enter a number: \"))"
      ],
      "metadata": {
        "colab": {
          "base_uri": "https://localhost:8080/"
        },
        "id": "MgQt26oeUZWp",
        "outputId": "7833e3c8-f60f-4310-8a37-cb4cf220581a"
      },
      "execution_count": 37,
      "outputs": [
        {
          "name": "stdout",
          "output_type": "stream",
          "text": [
            "Enter a number: 99\n"
          ]
        }
      ]
    },
    {
      "cell_type": "code",
      "source": [
        "if x>50:\n",
        "    print(\"You are pass\")\n",
        "else:\n",
        "    print(\"You are fail\")"
      ],
      "metadata": {
        "colab": {
          "base_uri": "https://localhost:8080/"
        },
        "id": "Mr6pwCYIZmEe",
        "outputId": "372a70fc-1232-45e0-e1ab-a6680f7b03a6"
      },
      "execution_count": 38,
      "outputs": [
        {
          "output_type": "stream",
          "name": "stdout",
          "text": [
            "You are pass\n"
          ]
        }
      ]
    },
    {
      "cell_type": "code",
      "source": [
        "sal=int(input(\"Enter your salary: \"))\n",
        "if sal>250000:\n",
        "    print(\"You are taxable\")\n",
        "    t=sal*10/100\n",
        "    print(\"Your tax =\",t)\n",
        "else:\n",
        "    print(\"You are not taxable\")"
      ],
      "metadata": {
        "colab": {
          "base_uri": "https://localhost:8080/"
        },
        "id": "jfhLbbwSaDb9",
        "outputId": "7b54530d-5273-44c6-cec7-f2bb83d61bfc"
      },
      "execution_count": 40,
      "outputs": [
        {
          "output_type": "stream",
          "name": "stdout",
          "text": [
            "Enter your salary: 300000\n",
            "You are taxable\n",
            "Tax = 30000.0\n"
          ]
        }
      ]
    },
    {
      "cell_type": "code",
      "source": [
        "sal=int(input(\"Enter your salary: \"))\n",
        "if sal>250000:\n",
        "    print(\"You are taxable\")\n",
        "    t=sal-250000\n",
        "    tax=t*10/100\n",
        "    print(\"Your tax =\",tax)\n",
        "else:\n",
        "    print(\"You are not taxable\")"
      ],
      "metadata": {
        "colab": {
          "base_uri": "https://localhost:8080/"
        },
        "id": "VPyDb39OaxyB",
        "outputId": "7175200a-09b3-4fde-d21c-1eabcf9f6a86"
      },
      "execution_count": 42,
      "outputs": [
        {
          "output_type": "stream",
          "name": "stdout",
          "text": [
            "Enter your salary: 300000\n",
            "You are taxable\n",
            "Tax = 5000.0\n"
          ]
        }
      ]
    },
    {
      "cell_type": "code",
      "source": [
        "sal=int(input(\"Enter your salary: \"))\n",
        "if sal>250000:\n",
        "    print(\"You are taxable\")\n",
        "    if sal<500000:\n",
        "        t=sal-250000\n",
        "        tax=t*10/100\n",
        "        print(\"Your tax =\",tax)\n",
        "    else:\n",
        "        tax=sal*20/100\n",
        "        print(\"Your tax =\",tax)\n",
        "else:\n",
        "    print(\"You are not taxable\")"
      ],
      "metadata": {
        "colab": {
          "base_uri": "https://localhost:8080/"
        },
        "id": "ZAwC179Wfg1z",
        "outputId": "df798026-43b1-45d0-821c-8d6c8b0a14b1"
      },
      "execution_count": 44,
      "outputs": [
        {
          "output_type": "stream",
          "name": "stdout",
          "text": [
            "Enter your salary: 800000\n",
            "You are taxable\n",
            "Your tax = 160000.0\n"
          ]
        }
      ]
    }
  ]
}