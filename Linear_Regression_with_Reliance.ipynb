{
  "nbformat": 4,
  "nbformat_minor": 0,
  "metadata": {
    "colab": {
      "name": "Linear Regression with Reliance.ipynb",
      "provenance": [],
      "collapsed_sections": [],
      "authorship_tag": "ABX9TyNmLE1iDVoeRrKapcSh3bTh",
      "include_colab_link": true
    },
    "kernelspec": {
      "name": "python3",
      "display_name": "Python 3"
    },
    "language_info": {
      "name": "python"
    }
  },
  "cells": [
    {
      "cell_type": "markdown",
      "metadata": {
        "id": "view-in-github",
        "colab_type": "text"
      },
      "source": [
        "<a href=\"https://colab.research.google.com/github/Zahra-Fathima-Suhesh/Business-Analytics-with-Python/blob/main/Linear_Regression_with_Reliance.ipynb\" target=\"_parent\"><img src=\"https://colab.research.google.com/assets/colab-badge.svg\" alt=\"Open In Colab\"/></a>"
      ]
    },
    {
      "cell_type": "code",
      "execution_count": 1,
      "metadata": {
        "id": "CjbjYOrqvxlP"
      },
      "outputs": [],
      "source": [
        "from sklearn.linear_model import LinearRegression"
      ]
    },
    {
      "cell_type": "code",
      "source": [
        "import pandas as pd"
      ],
      "metadata": {
        "id": "VyuyDtt0wBT3"
      },
      "execution_count": 4,
      "outputs": []
    },
    {
      "cell_type": "code",
      "source": [
        "dataset=pd.read_csv(\"/content/LinData.csv\")"
      ],
      "metadata": {
        "id": "WaqQtD7Exykj"
      },
      "execution_count": 3,
      "outputs": []
    },
    {
      "cell_type": "code",
      "source": [
        "print(dataset)"
      ],
      "metadata": {
        "colab": {
          "base_uri": "https://localhost:8080/"
        },
        "id": "i-LHu2ANyjhl",
        "outputId": "c36fe7be-c330-4cc7-dc60-98e13f93e791"
      },
      "execution_count": 5,
      "outputs": [
        {
          "output_type": "stream",
          "name": "stdout",
          "text": [
            "   Month  StockPrice\n",
            "0      1           3\n",
            "1      2          10\n",
            "2      3          15\n",
            "3      4          12\n",
            "4      5          10\n",
            "5      6          18\n",
            "6      7          21\n",
            "7      8          40\n",
            "8      9          45\n",
            "9     10          40\n"
          ]
        }
      ]
    },
    {
      "cell_type": "code",
      "source": [
        "x=dataset.iloc[:,:-1].values\n",
        "y=dataset.iloc[:,-1].values"
      ],
      "metadata": {
        "id": "jgjkspliymmV"
      },
      "execution_count": 7,
      "outputs": []
    },
    {
      "cell_type": "code",
      "source": [
        "print(x)"
      ],
      "metadata": {
        "colab": {
          "base_uri": "https://localhost:8080/"
        },
        "id": "Ul8MxZFrzJQA",
        "outputId": "a64bcbc0-f32d-4b69-988a-a29d17a9c1cf"
      },
      "execution_count": 9,
      "outputs": [
        {
          "output_type": "stream",
          "name": "stdout",
          "text": [
            "[[ 1]\n",
            " [ 2]\n",
            " [ 3]\n",
            " [ 4]\n",
            " [ 5]\n",
            " [ 6]\n",
            " [ 7]\n",
            " [ 8]\n",
            " [ 9]\n",
            " [10]]\n"
          ]
        }
      ]
    },
    {
      "cell_type": "code",
      "source": [
        "print(y)"
      ],
      "metadata": {
        "colab": {
          "base_uri": "https://localhost:8080/"
        },
        "id": "rvjZhXzKzf8S",
        "outputId": "1b3109fe-5de6-48a6-afd1-5d46d80fbede"
      },
      "execution_count": 10,
      "outputs": [
        {
          "output_type": "stream",
          "name": "stdout",
          "text": [
            "[ 3 10 15 12 10 18 21 40 45 40]\n"
          ]
        }
      ]
    },
    {
      "cell_type": "code",
      "source": [
        "reg=LinearRegression()\n",
        "a=reg.fit(x,y)"
      ],
      "metadata": {
        "id": "qA3HRszV0UG2"
      },
      "execution_count": 11,
      "outputs": []
    },
    {
      "cell_type": "code",
      "source": [
        "y_pred=a.predict(x)"
      ],
      "metadata": {
        "id": "48b7n12XzkoW"
      },
      "execution_count": 17,
      "outputs": []
    },
    {
      "cell_type": "code",
      "source": [
        "import matplotlib.pyplot as plt"
      ],
      "metadata": {
        "id": "sjBaKUqp1IgK"
      },
      "execution_count": 13,
      "outputs": []
    },
    {
      "cell_type": "code",
      "source": [
        "plt.scatter(x,y,color=\"red\")\n",
        "plt.plot(x,y_pred,color=\"blue\")"
      ],
      "metadata": {
        "colab": {
          "base_uri": "https://localhost:8080/",
          "height": 282
        },
        "id": "3Y5crvcR1Mdi",
        "outputId": "6bc0b6bd-5e16-4ce3-bc03-1f01169e1fc7"
      },
      "execution_count": 18,
      "outputs": [
        {
          "output_type": "execute_result",
          "data": {
            "text/plain": [
              "[<matplotlib.lines.Line2D at 0x7f9922b23590>]"
            ]
          },
          "metadata": {},
          "execution_count": 18
        },
        {
          "output_type": "display_data",
          "data": {
            "text/plain": [
              "<Figure size 432x288 with 1 Axes>"
            ],
            "image/png": "[encoded data removed]"
          },
          "metadata": {
            "needs_background": "light"
          }
        }
      ]
    },
    {
      "cell_type": "code",
      "source": [
        "ds=pd.read_csv(\"/content/RELIANCE.NS.csv\")"
      ],
      "metadata": {
        "id": "MnhV3hTf1i46"
      },
      "execution_count": 66,
      "outputs": []
    },
    {
      "cell_type": "code",
      "source": [
        "ds"
      ],
      "metadata": {
        "colab": {
          "base_uri": "https://localhost:8080/",
          "height": 424
        },
        "id": "AqsgcP8M6l_T",
        "outputId": "230c96bc-5d2a-420e-cbdb-b6f4f32b87b8"
      },
      "execution_count": 67,
      "outputs": [
        {
          "output_type": "execute_result",
          "data": {
            "text/plain": [
              "      Date         Open\n",
              "0      1.0  2149.350098\n",
              "1      2.0  2168.850098\n",
              "2      3.0  2174.000000\n",
              "3      4.0  2143.000000\n",
              "4      5.0  2174.000000\n",
              "..     ...          ...\n",
              "244  245.0  2531.000000\n",
              "245  246.0  2576.899902\n",
              "246  247.0  2603.100098\n",
              "247  248.0  2590.300049\n",
              "248  249.0  2646.199951\n",
              "\n",
              "[249 rows x 2 columns]"
            ],
            "text/html": [
              "\n",
              "  <div id=\"df-13c2c770-f0bc-43e0-9ba3-97c07717844e\">\n",
              "    <div class=\"colab-df-container\">\n",
              "      <div>\n",
              "<style scoped>\n",
              "    .dataframe tbody tr th:only-of-type {\n",
              "        vertical-align: middle;\n",
              "    }\n",
              "\n",
              "    .dataframe tbody tr th {\n",
              "        vertical-align: top;\n",
              "    }\n",
              "\n",
              "    .dataframe thead th {\n",
              "        text-align: right;\n",
              "    }\n",
              "</style>\n",
              "<table border=\"1\" class=\"dataframe\">\n",
              "  <thead>\n",
              "    <tr style=\"text-align: right;\">\n",
              "      <th></th>\n",
              "      <th>Date</th>\n",
              "      <th>Open</th>\n",
              "    </tr>\n",
              "  </thead>\n",
              "  <tbody>\n",
              "    <tr>\n",
              "      <th>0</th>\n",
              "      <td>1.0</td>\n",
              "      <td>2149.350098</td>\n",
              "    </tr>\n",
              "    <tr>\n",
              "      <th>1</th>\n",
              "      <td>2.0</td>\n",
              "      <td>2168.850098</td>\n",
              "    </tr>\n",
              "    <tr>\n",
              "      <th>2</th>\n",
              "      <td>3.0</td>\n",
              "      <td>2174.000000</td>\n",
              "    </tr>\n",
              "    <tr>\n",
              "      <th>3</th>\n",
              "      <td>4.0</td>\n",
              "      <td>2143.000000</td>\n",
              "    </tr>\n",
              "    <tr>\n",
              "      <th>4</th>\n",
              "      <td>5.0</td>\n",
              "      <td>2174.000000</td>\n",
              "    </tr>\n",
              "    <tr>\n",
              "      <th>...</th>\n",
              "      <td>...</td>\n",
              "      <td>...</td>\n",
              "    </tr>\n",
              "    <tr>\n",
              "      <th>244</th>\n",
              "      <td>245.0</td>\n",
              "      <td>2531.000000</td>\n",
              "    </tr>\n",
              "    <tr>\n",
              "      <th>245</th>\n",
              "      <td>246.0</td>\n",
              "      <td>2576.899902</td>\n",
              "    </tr>\n",
              "    <tr>\n",
              "      <th>246</th>\n",
              "      <td>247.0</td>\n",
              "      <td>2603.100098</td>\n",
              "    </tr>\n",
              "    <tr>\n",
              "      <th>247</th>\n",
              "      <td>248.0</td>\n",
              "      <td>2590.300049</td>\n",
              "    </tr>\n",
              "    <tr>\n",
              "      <th>248</th>\n",
              "      <td>249.0</td>\n",
              "      <td>2646.199951</td>\n",
              "    </tr>\n",
              "  </tbody>\n",
              "</table>\n",
              "<p>249 rows × 2 columns</p>\n",
              "</div>\n",
              "      <button class=\"colab-df-convert\" onclick=\"convertToInteractive('df-13c2c770-f0bc-43e0-9ba3-97c07717844e')\"\n",
              "              title=\"Convert this dataframe to an interactive table.\"\n",
              "              style=\"display:none;\">\n",
              "        \n",
              "  <svg xmlns=\"http://www.w3.org/2000/svg\" height=\"24px\"viewBox=\"0 0 24 24\"\n",
              "       width=\"24px\">\n",
              "    <path d=\"M0 0h24v24H0V0z\" fill=\"none\"/>\n",
              "    <path d=\"M18.56 5.44l.94 2.06.94-2.06 2.06-.94-2.06-.94-.94-2.06-.94 2.06-2.06.94zm-11 1L8.5 8.5l.94-2.06 2.06-.94-2.06-.94L8.5 2.5l-.94 2.06-2.06.94zm10 10l.94 2.06.94-2.06 2.06-.94-2.06-.94-.94-2.06-.94 2.06-2.06.94z\"/><path d=\"M17.41 7.96l-1.37-1.37c-.4-.4-.92-.59-1.43-.59-.52 0-1.04.2-1.43.59L10.3 9.45l-7.72 7.72c-.78.78-.78 2.05 0 2.83L4 21.41c.39.39.9.59 1.41.59.51 0 1.02-.2 1.41-.59l7.78-7.78 2.81-2.81c.8-.78.8-2.07 0-2.86zM5.41 20L4 18.59l7.72-7.72 1.47 1.35L5.41 20z\"/>\n",
              "  </svg>\n",
              "      </button>\n",
              "      \n",
              "  <style>\n",
              "    .colab-df-container {\n",
              "      display:flex;\n",
              "      flex-wrap:wrap;\n",
              "      gap: 12px;\n",
              "    }\n",
              "\n",
              "    .colab-df-convert {\n",
              "      background-color: #E8F0FE;\n",
              "      border: none;\n",
              "      border-radius: 50%;\n",
              "      cursor: pointer;\n",
              "      display: none;\n",
              "      fill: #1967D2;\n",
              "      height: 32px;\n",
              "      padding: 0 0 0 0;\n",
              "      width: 32px;\n",
              "    }\n",
              "\n",
              "    .colab-df-convert:hover {\n",
              "      background-color: #E2EBFA;\n",
              "      box-shadow: 0px 1px 2px rgba(60, 64, 67, 0.3), 0px 1px 3px 1px rgba(60, 64, 67, 0.15);\n",
              "      fill: #174EA6;\n",
              "    }\n",
              "\n",
              "    [theme=dark] .colab-df-convert {\n",
              "      background-color: #3B4455;\n",
              "      fill: #D2E3FC;\n",
              "    }\n",
              "\n",
              "    [theme=dark] .colab-df-convert:hover {\n",
              "      background-color: #434B5C;\n",
              "      box-shadow: 0px 1px 3px 1px rgba(0, 0, 0, 0.15);\n",
              "      filter: drop-shadow(0px 1px 2px rgba(0, 0, 0, 0.3));\n",
              "      fill: #FFFFFF;\n",
              "    }\n",
              "  </style>\n",
              "\n",
              "      <script>\n",
              "        const buttonEl =\n",
              "          document.querySelector('#df-13c2c770-f0bc-43e0-9ba3-97c07717844e button.colab-df-convert');\n",
              "        buttonEl.style.display =\n",
              "          google.colab.kernel.accessAllowed ? 'block' : 'none';\n",
              "\n",
              "        async function convertToInteractive(key) {\n",
              "          const element = document.querySelector('#df-13c2c770-f0bc-43e0-9ba3-97c07717844e');\n",
              "          const dataTable =\n",
              "            await google.colab.kernel.invokeFunction('convertToInteractive',\n",
              "                                                     [key], {});\n",
              "          if (!dataTable) return;\n",
              "\n",
              "          const docLinkHtml = 'Like what you see? Visit the ' +\n",
              "            '<a target=\"_blank\" href=https://colab.research.google.com/notebooks/data_table.ipynb>data table notebook</a>'\n",
              "            + ' to learn more about interactive tables.';\n",
              "          element.innerHTML = '';\n",
              "          dataTable['output_type'] = 'display_data';\n",
              "          await google.colab.output.renderOutput(dataTable, element);\n",
              "          const docLink = document.createElement('div');\n",
              "          docLink.innerHTML = docLinkHtml;\n",
              "          element.appendChild(docLink);\n",
              "        }\n",
              "      </script>\n",
              "    </div>\n",
              "  </div>\n",
              "  "
            ]
          },
          "metadata": {},
          "execution_count": 67
        }
      ]
    },
    {
      "cell_type": "code",
      "source": [
        "x=ds.iloc[:,:-1].values\n",
        "y=ds.iloc[:,-1].values"
      ],
      "metadata": {
        "id": "cVd9UoZY7Rbi"
      },
      "execution_count": 68,
      "outputs": []
    },
    {
      "cell_type": "code",
      "source": [
        "x"
      ],
      "metadata": {
        "colab": {
          "base_uri": "https://localhost:8080/"
        },
        "id": "RZPNOewn7Fmg",
        "outputId": "7b6ec4cc-359b-463e-d8a2-e24b5ba7370d"
      },
      "execution_count": 69,
      "outputs": [
        {
          "output_type": "execute_result",
          "data": {
            "text/plain": [
              "array([[  1.],\n",
              "       [  2.],\n",
              "       [  3.],\n",
              "       [  4.],\n",
              "       [  5.],\n",
              "       [  6.],\n",
              "       [  7.],\n",
              "       [  8.],\n",
              "       [  9.],\n",
              "       [ 10.],\n",
              "       [ 11.],\n",
              "       [ 12.],\n",
              "       [ 13.],\n",
              "       [ 14.],\n",
              "       [ 15.],\n",
              "       [ 16.],\n",
              "       [ 17.],\n",
              "       [ 18.],\n",
              "       [ 19.],\n",
              "       [ 20.],\n",
              "       [ 21.],\n",
              "       [ 22.],\n",
              "       [ 23.],\n",
              "       [ 24.],\n",
              "       [ 25.],\n",
              "       [ 26.],\n",
              "       [ 27.],\n",
              "       [ 28.],\n",
              "       [ 29.],\n",
              "       [ 30.],\n",
              "       [ 31.],\n",
              "       [ 32.],\n",
              "       [ 33.],\n",
              "       [ 34.],\n",
              "       [ 35.],\n",
              "       [ 36.],\n",
              "       [ 37.],\n",
              "       [ 38.],\n",
              "       [ 39.],\n",
              "       [ 40.],\n",
              "       [ 41.],\n",
              "       [ 42.],\n",
              "       [ 43.],\n",
              "       [ 44.],\n",
              "       [ 45.],\n",
              "       [ 46.],\n",
              "       [ 47.],\n",
              "       [ 48.],\n",
              "       [ 49.],\n",
              "       [ 50.],\n",
              "       [ 51.],\n",
              "       [ 52.],\n",
              "       [ 53.],\n",
              "       [ 54.],\n",
              "       [ 55.],\n",
              "       [ 56.],\n",
              "       [ 57.],\n",
              "       [ 58.],\n",
              "       [ 59.],\n",
              "       [ 60.],\n",
              "       [ 61.],\n",
              "       [ 62.],\n",
              "       [ 63.],\n",
              "       [ 64.],\n",
              "       [ 65.],\n",
              "       [ 66.],\n",
              "       [ 67.],\n",
              "       [ 68.],\n",
              "       [ 69.],\n",
              "       [ 70.],\n",
              "       [ 71.],\n",
              "       [ 72.],\n",
              "       [ 73.],\n",
              "       [ 74.],\n",
              "       [ 75.],\n",
              "       [ 76.],\n",
              "       [ 77.],\n",
              "       [ 78.],\n",
              "       [ 79.],\n",
              "       [ 80.],\n",
              "       [ 81.],\n",
              "       [ 82.],\n",
              "       [ 83.],\n",
              "       [ 84.],\n",
              "       [ 85.],\n",
              "       [ 86.],\n",
              "       [ 87.],\n",
              "       [ 88.],\n",
              "       [ 89.],\n",
              "       [ 90.],\n",
              "       [ 91.],\n",
              "       [ 92.],\n",
              "       [ 93.],\n",
              "       [ 94.],\n",
              "       [ 95.],\n",
              "       [ 96.],\n",
              "       [ 97.],\n",
              "       [ 98.],\n",
              "       [ 99.],\n",
              "       [100.],\n",
              "       [101.],\n",
              "       [102.],\n",
              "       [103.],\n",
              "       [104.],\n",
              "       [105.],\n",
              "       [106.],\n",
              "       [107.],\n",
              "       [108.],\n",
              "       [109.],\n",
              "       [110.],\n",
              "       [111.],\n",
              "       [112.],\n",
              "       [113.],\n",
              "       [114.],\n",
              "       [115.],\n",
              "       [116.],\n",
              "       [117.],\n",
              "       [118.],\n",
              "       [119.],\n",
              "       [120.],\n",
              "       [121.],\n",
              "       [122.],\n",
              "       [123.],\n",
              "       [124.],\n",
              "       [125.],\n",
              "       [126.],\n",
              "       [127.],\n",
              "       [128.],\n",
              "       [129.],\n",
              "       [130.],\n",
              "       [131.],\n",
              "       [132.],\n",
              "       [133.],\n",
              "       [134.],\n",
              "       [135.],\n",
              "       [136.],\n",
              "       [137.],\n",
              "       [138.],\n",
              "       [139.],\n",
              "       [140.],\n",
              "       [141.],\n",
              "       [142.],\n",
              "       [143.],\n",
              "       [144.],\n",
              "       [145.],\n",
              "       [146.],\n",
              "       [147.],\n",
              "       [148.],\n",
              "       [149.],\n",
              "       [150.],\n",
              "       [151.],\n",
              "       [152.],\n",
              "       [153.],\n",
              "       [154.],\n",
              "       [155.],\n",
              "       [156.],\n",
              "       [157.],\n",
              "       [158.],\n",
              "       [159.],\n",
              "       [160.],\n",
              "       [161.],\n",
              "       [162.],\n",
              "       [163.],\n",
              "       [164.],\n",
              "       [165.],\n",
              "       [166.],\n",
              "       [167.],\n",
              "       [168.],\n",
              "       [169.],\n",
              "       [170.],\n",
              "       [171.],\n",
              "       [172.],\n",
              "       [173.],\n",
              "       [174.],\n",
              "       [175.],\n",
              "       [176.],\n",
              "       [177.],\n",
              "       [178.],\n",
              "       [179.],\n",
              "       [180.],\n",
              "       [181.],\n",
              "       [182.],\n",
              "       [183.],\n",
              "       [184.],\n",
              "       [185.],\n",
              "       [186.],\n",
              "       [187.],\n",
              "       [188.],\n",
              "       [189.],\n",
              "       [190.],\n",
              "       [191.],\n",
              "       [192.],\n",
              "       [193.],\n",
              "       [194.],\n",
              "       [195.],\n",
              "       [196.],\n",
              "       [197.],\n",
              "       [198.],\n",
              "       [199.],\n",
              "       [200.],\n",
              "       [201.],\n",
              "       [202.],\n",
              "       [203.],\n",
              "       [204.],\n",
              "       [205.],\n",
              "       [206.],\n",
              "       [207.],\n",
              "       [208.],\n",
              "       [209.],\n",
              "       [210.],\n",
              "       [211.],\n",
              "       [212.],\n",
              "       [213.],\n",
              "       [214.],\n",
              "       [215.],\n",
              "       [216.],\n",
              "       [217.],\n",
              "       [218.],\n",
              "       [219.],\n",
              "       [220.],\n",
              "       [221.],\n",
              "       [222.],\n",
              "       [223.],\n",
              "       [224.],\n",
              "       [225.],\n",
              "       [226.],\n",
              "       [227.],\n",
              "       [228.],\n",
              "       [229.],\n",
              "       [230.],\n",
              "       [231.],\n",
              "       [232.],\n",
              "       [233.],\n",
              "       [234.],\n",
              "       [235.],\n",
              "       [236.],\n",
              "       [237.],\n",
              "       [238.],\n",
              "       [239.],\n",
              "       [240.],\n",
              "       [241.],\n",
              "       [242.],\n",
              "       [243.],\n",
              "       [244.],\n",
              "       [245.],\n",
              "       [246.],\n",
              "       [247.],\n",
              "       [248.],\n",
              "       [249.]])"
            ]
          },
          "metadata": {},
          "execution_count": 69
        }
      ]
    },
    {
      "cell_type": "code",
      "source": [
        "y"
      ],
      "metadata": {
        "colab": {
          "base_uri": "https://localhost:8080/"
        },
        "id": "ei8OPsbP7jiI",
        "outputId": "31f591d2-c010-49d8-e650-2f799f539c8d"
      },
      "execution_count": 70,
      "outputs": [
        {
          "output_type": "execute_result",
          "data": {
            "text/plain": [
              "array([2149.350098, 2168.850098, 2174.      , 2143.      , 2174.      ,\n",
              "       2165.050049, 2185.399902, 2208.      , 2237.      , 2250.      ,\n",
              "       2276.899902, 2273.      , 2255.      , 2310.      , 2413.      ,\n",
              "       2430.      , 2452.      , 2427.899902, 2433.      , 2375.      ,\n",
              "       2368.5     , 2381.550049, 2446.      , 2372.100098, 2405.      ,\n",
              "       2408.      , 2447.399902, 2503.550049, 2487.      , 2534.      ,\n",
              "       2570.      , 2525.      , 2501.949951, 2553.      , 2555.100098,\n",
              "       2619.949951, 2595.      , 2585.25    , 2701.399902, 2645.      ,\n",
              "       2679.      , 2700.350098, 2668.600098, 2723.800049, 2742.75    ,\n",
              "       2727.399902, 2620.      , 2680.      , 2617.100098, 2652.      ,\n",
              "       2620.      , 2596.149902, 2536.25    , 2545.      , 2506.050049,\n",
              "       2492.949951, 2519.399902, 2505.      , 2516.699951, 2540.050049,\n",
              "       2562.899902, 2600.      , 2572.050049, 2498.949951, 2460.      ,\n",
              "       2436.100098, 2333.050049, 2380.      , 2373.      , 2467.800049,\n",
              "       2439.100098, 2468.      , 2433.      , 2469.699951, 2498.399902,\n",
              "       2416.      , 2376.149902, 2424.100098, 2435.      , 2440.25    ,\n",
              "       2473.5     , 2380.      , 2384.      , 2405.699951, 2398.050049,\n",
              "       2317.850098, 2311.350098, 2324.899902, 2374.      , 2370.      ,\n",
              "       2361.550049, 2375.600098, 2391.      , 2400.      , 2373.      ,\n",
              "       2365.      , 2415.899902, 2462.      , 2451.199951, 2430.949951,\n",
              "       2452.      , 2436.      , 2471.300049, 2521.25    , 2535.      ,\n",
              "       2538.      , 2554.75    , 2530.      , 2500.050049, 2452.      ,\n",
              "       2475.      , 2349.550049, 2336.      , 2365.      , 2360.199951,\n",
              "       2408.      , 2407.      , 2392.      , 2341.      , 2342.      ,\n",
              "       2330.649902, 2371.149902, 2395.699951, 2373.25    , 2340.25    ,\n",
              "       2351.199951, 2430.      , 2420.100098, 2444.399902, 2412.      ,\n",
              "       2352.899902, 2401.100098, 2305.      , 2280.100098, 2243.      ,\n",
              "       2334.449951, 2400.      , 2353.      , 2278.699951, 2211.5     ,\n",
              "       2236.      , 2400.      , 2376.050049, 2386.899902, 2427.949951,\n",
              "       2382.      , 2432.75    , 2444.      , 2460.100098, 2523.      ,\n",
              "       2510.      , 2582.5     , 2610.      , 2638.      , 2639.899902,\n",
              "       2664.949951, 2636.      , 2655.449951, 2651.100098, 2587.100098,\n",
              "       2595.100098, 2560.      , 2600.      , 2587.      , 2574.5     ,\n",
              "       2533.      , 2558.      , 2657.100098, 2750.899902, 2758.899902,\n",
              "       2742.399902, 2710.      , 2755.850098, 2809.949951, 2856.149902,\n",
              "       2762.      , 2785.      , 2723.5     , 2612.199951, 2574.949951,\n",
              "       2495.      , 2472.649902, 2427.5     , 2426.      , 2434.449951,\n",
              "       2435.100098, 2539.649902, 2484.      , 2512.5     , 2631.5     ,\n",
              "       2607.      , 2635.      , 2624.399902, 2593.050049, 2615.      ,\n",
              "       2641.399902, 2634.300049, 2634.      , 2744.      , 2780.      ,\n",
              "       2769.899902, 2772.75    , 2710.      , 2771.899902, 2650.      ,\n",
              "       2650.050049, 2617.550049, 2623.      , 2560.      , 2605.      ,\n",
              "       2560.      , 2558.100098, 2515.050049, 2480.      , 2544.949951,\n",
              "       2482.100098, 2507.199951, 2580.      , 2574.899902, 2378.949951,\n",
              "       2423.      , 2420.100098, 2425.899902, 2418.      , 2376.5     ,\n",
              "       2404.      , 2427.300049, 2388.      , 2415.      , 2421.      ,\n",
              "       2400.300049, 2540.      , 2494.      , 2500.      , 2467.449951,\n",
              "       2421.100098, 2419.949951, 2436.      , 2474.699951, 2519.149902,\n",
              "       2572.5     , 2600.      , 2610.      , 2576.      , 2531.      ,\n",
              "       2576.899902, 2603.100098, 2590.300049, 2646.199951])"
            ]
          },
          "metadata": {},
          "execution_count": 70
        }
      ]
    },
    {
      "cell_type": "code",
      "source": [
        "reg=LinearRegression()\n",
        "reg.fit(x,y)"
      ],
      "metadata": {
        "colab": {
          "base_uri": "https://localhost:8080/"
        },
        "id": "fY3ka37v7k2O",
        "outputId": "2c4d5d06-b6fc-47e9-e9f6-ea591c5c27a1"
      },
      "execution_count": 71,
      "outputs": [
        {
          "output_type": "execute_result",
          "data": {
            "text/plain": [
              "LinearRegression()"
            ]
          },
          "metadata": {},
          "execution_count": 71
        }
      ]
    },
    {
      "cell_type": "code",
      "source": [
        "y_pred=reg.predict(x)"
      ],
      "metadata": {
        "id": "f_dir-t57wXo"
      },
      "execution_count": 72,
      "outputs": []
    },
    {
      "cell_type": "code",
      "source": [
        "y_pred"
      ],
      "metadata": {
        "colab": {
          "base_uri": "https://localhost:8080/"
        },
        "id": "4k6yn0ZA7_sg",
        "outputId": "676b9a82-719b-44b0-d591-58a2735df086"
      },
      "execution_count": 73,
      "outputs": [
        {
          "output_type": "execute_result",
          "data": {
            "text/plain": [
              "array([2404.48433168, 2405.16273564, 2405.8411396 , 2406.51954356,\n",
              "       2407.19794752, 2407.87635148, 2408.55475544, 2409.2331594 ,\n",
              "       2409.91156336, 2410.58996732, 2411.26837128, 2411.94677524,\n",
              "       2412.6251792 , 2413.30358316, 2413.98198712, 2414.66039108,\n",
              "       2415.33879504, 2416.017199  , 2416.69560296, 2417.37400692,\n",
              "       2418.05241088, 2418.73081484, 2419.4092188 , 2420.08762276,\n",
              "       2420.76602672, 2421.44443069, 2422.12283465, 2422.80123861,\n",
              "       2423.47964257, 2424.15804653, 2424.83645049, 2425.51485445,\n",
              "       2426.19325841, 2426.87166237, 2427.55006633, 2428.22847029,\n",
              "       2428.90687425, 2429.58527821, 2430.26368217, 2430.94208613,\n",
              "       2431.62049009, 2432.29889405, 2432.97729801, 2433.65570197,\n",
              "       2434.33410593, 2435.01250989, 2435.69091385, 2436.36931781,\n",
              "       2437.04772177, 2437.72612573, 2438.40452969, 2439.08293365,\n",
              "       2439.76133761, 2440.43974157, 2441.11814553, 2441.79654949,\n",
              "       2442.47495345, 2443.15335741, 2443.83176137, 2444.51016533,\n",
              "       2445.18856929, 2445.86697325, 2446.54537721, 2447.22378118,\n",
              "       2447.90218514, 2448.5805891 , 2449.25899306, 2449.93739702,\n",
              "       2450.61580098, 2451.29420494, 2451.9726089 , 2452.65101286,\n",
              "       2453.32941682, 2454.00782078, 2454.68622474, 2455.3646287 ,\n",
              "       2456.04303266, 2456.72143662, 2457.39984058, 2458.07824454,\n",
              "       2458.7566485 , 2459.43505246, 2460.11345642, 2460.79186038,\n",
              "       2461.47026434, 2462.1486683 , 2462.82707226, 2463.50547622,\n",
              "       2464.18388018, 2464.86228414, 2465.5406881 , 2466.21909206,\n",
              "       2466.89749602, 2467.57589998, 2468.25430394, 2468.9327079 ,\n",
              "       2469.61111186, 2470.28951582, 2470.96791978, 2471.64632374,\n",
              "       2472.3247277 , 2473.00313167, 2473.68153563, 2474.35993959,\n",
              "       2475.03834355, 2475.71674751, 2476.39515147, 2477.07355543,\n",
              "       2477.75195939, 2478.43036335, 2479.10876731, 2479.78717127,\n",
              "       2480.46557523, 2481.14397919, 2481.82238315, 2482.50078711,\n",
              "       2483.17919107, 2483.85759503, 2484.53599899, 2485.21440295,\n",
              "       2485.89280691, 2486.57121087, 2487.24961483, 2487.92801879,\n",
              "       2488.60642275, 2489.28482671, 2489.96323067, 2490.64163463,\n",
              "       2491.32003859, 2491.99844255, 2492.67684651, 2493.35525047,\n",
              "       2494.03365443, 2494.71205839, 2495.39046235, 2496.06886631,\n",
              "       2496.74727027, 2497.42567423, 2498.10407819, 2498.78248215,\n",
              "       2499.46088612, 2500.13929008, 2500.81769404, 2501.496098  ,\n",
              "       2502.17450196, 2502.85290592, 2503.53130988, 2504.20971384,\n",
              "       2504.8881178 , 2505.56652176, 2506.24492572, 2506.92332968,\n",
              "       2507.60173364, 2508.2801376 , 2508.95854156, 2509.63694552,\n",
              "       2510.31534948, 2510.99375344, 2511.6721574 , 2512.35056136,\n",
              "       2513.02896532, 2513.70736928, 2514.38577324, 2515.0641772 ,\n",
              "       2515.74258116, 2516.42098512, 2517.09938908, 2517.77779304,\n",
              "       2518.456197  , 2519.13460096, 2519.81300492, 2520.49140888,\n",
              "       2521.16981284, 2521.8482168 , 2522.52662076, 2523.20502472,\n",
              "       2523.88342868, 2524.56183264, 2525.24023661, 2525.91864057,\n",
              "       2526.59704453, 2527.27544849, 2527.95385245, 2528.63225641,\n",
              "       2529.31066037, 2529.98906433, 2530.66746829, 2531.34587225,\n",
              "       2532.02427621, 2532.70268017, 2533.38108413, 2534.05948809,\n",
              "       2534.73789205, 2535.41629601, 2536.09469997, 2536.77310393,\n",
              "       2537.45150789, 2538.12991185, 2538.80831581, 2539.48671977,\n",
              "       2540.16512373, 2540.84352769, 2541.52193165, 2542.20033561,\n",
              "       2542.87873957, 2543.55714353, 2544.23554749, 2544.91395145,\n",
              "       2545.59235541, 2546.27075937, 2546.94916333, 2547.62756729,\n",
              "       2548.30597125, 2548.98437521, 2549.66277917, 2550.34118313,\n",
              "       2551.01958709, 2551.69799106, 2552.37639502, 2553.05479898,\n",
              "       2553.73320294, 2554.4116069 , 2555.09001086, 2555.76841482,\n",
              "       2556.44681878, 2557.12522274, 2557.8036267 , 2558.48203066,\n",
              "       2559.16043462, 2559.83883858, 2560.51724254, 2561.1956465 ,\n",
              "       2561.87405046, 2562.55245442, 2563.23085838, 2563.90926234,\n",
              "       2564.5876663 , 2565.26607026, 2565.94447422, 2566.62287818,\n",
              "       2567.30128214, 2567.9796861 , 2568.65809006, 2569.33649402,\n",
              "       2570.01489798, 2570.69330194, 2571.3717059 , 2572.05010986,\n",
              "       2572.72851382])"
            ]
          },
          "metadata": {},
          "execution_count": 73
        }
      ]
    },
    {
      "cell_type": "code",
      "source": [
        "plt.scatter(x,y,color=\"red\")\n",
        "plt.plot(x,y_pred,color=\"blue\")"
      ],
      "metadata": {
        "colab": {
          "base_uri": "https://localhost:8080/",
          "height": 282
        },
        "id": "n39e169x8BlJ",
        "outputId": "e60bc624-360a-43e1-bf29-b04b2ff5bd61"
      },
      "execution_count": 74,
      "outputs": [
        {
          "output_type": "execute_result",
          "data": {
            "text/plain": [
              "[<matplotlib.lines.Line2D at 0x7f992297aed0>]"
            ]
          },
          "metadata": {},
          "execution_count": 74
        },
        {
          "output_type": "display_data",
          "data": {
            "text/plain": [
              "<Figure size 432x288 with 1 Axes>"
            ],
            "image/png": "[encoded data removed]"
          },
          "metadata": {
            "needs_background": "light"
          }
        }
      ]
    },
    {
      "cell_type": "code",
      "source": [
        "from sklearn.preprocessing import PolynomialFeatures"
      ],
      "metadata": {
        "id": "o9OpjXEf8X5Z"
      },
      "execution_count": 75,
      "outputs": []
    },
    {
      "cell_type": "code",
      "source": [
        "poly_reg= PolynomialFeatures(degree=4)"
      ],
      "metadata": {
        "id": "pOvnErmW9Dow"
      },
      "execution_count": 76,
      "outputs": []
    },
    {
      "cell_type": "code",
      "source": [
        "x_poly=poly_reg.fit_transform(x)"
      ],
      "metadata": {
        "id": "GOSjsdqR9TPF"
      },
      "execution_count": 77,
      "outputs": []
    },
    {
      "cell_type": "code",
      "source": [
        "LG=LinearRegression()"
      ],
      "metadata": {
        "id": "xwWVR0Fa9nJq"
      },
      "execution_count": 78,
      "outputs": []
    },
    {
      "cell_type": "code",
      "source": [
        "LG.fit(x_ploy,y)"
      ],
      "metadata": {
        "colab": {
          "base_uri": "https://localhost:8080/"
        },
        "id": "Yz9h-Hu1-Bb_",
        "outputId": "2c74afe0-15f1-4e4a-aa70-be950dc95a87"
      },
      "execution_count": 79,
      "outputs": [
        {
          "output_type": "execute_result",
          "data": {
            "text/plain": [
              "LinearRegression()"
            ]
          },
          "metadata": {},
          "execution_count": 79
        }
      ]
    },
    {
      "cell_type": "code",
      "source": [
        "y_pred=LG.predict(x_poly)"
      ],
      "metadata": {
        "id": "NbmdHy0Q-Xku"
      },
      "execution_count": 80,
      "outputs": []
    },
    {
      "cell_type": "code",
      "source": [
        "y_pred"
      ],
      "metadata": {
        "colab": {
          "base_uri": "https://localhost:8080/"
        },
        "id": "_Yfyo1W5_ktU",
        "outputId": "2bb346aa-1b64-4cbd-f7b3-68312ab63948"
      },
      "execution_count": 81,
      "outputs": [
        {
          "output_type": "execute_result",
          "data": {
            "text/plain": [
              "array([2157.6863487 , 2176.508884  , 2194.69702025, 2212.26256012,\n",
              "       2229.21721084, 2245.57258417, 2261.34019641, 2276.5314684 ,\n",
              "       2291.15772555, 2305.23019776, 2318.76001951, 2331.75822981,\n",
              "       2344.23577221, 2356.20349479, 2367.6721502 , 2378.65239559,\n",
              "       2389.15479268, 2399.18980773, 2408.76781153, 2417.89907942,\n",
              "       2426.59379127, 2434.86203149, 2442.71378905, 2450.15895745,\n",
              "       2457.20733472, 2463.86862345, 2470.15243075, 2476.06826829,\n",
              "       2481.62555226, 2486.83360343, 2491.70164706, 2496.23881298,\n",
              "       2500.45413557, 2504.35655372, 2507.95491088, 2511.25795505,\n",
              "       2514.27433876, 2517.01261906, 2519.48125758, 2521.68862047,\n",
              "       2523.64297841, 2525.35250665, 2526.82528496, 2528.06929765,\n",
              "       2529.09243358, 2529.90248615, 2530.50715329, 2530.91403748,\n",
              "       2531.13064575, 2531.16438965, 2531.02258528, 2530.71245329,\n",
              "       2530.24111886, 2529.61561172, 2528.84286612, 2527.92972088,\n",
              "       2526.88291934, 2525.70910938, 2524.41484344, 2523.00657849,\n",
              "       2521.49067603, 2519.87340211, 2518.16092733, 2516.35932682,\n",
              "       2514.47458025, 2512.51257183, 2510.47909033, 2508.37982903,\n",
              "       2506.22038577, 2504.00626294, 2501.74286744, 2499.43551074,\n",
              "       2497.08940883, 2494.70968226, 2492.30135611, 2489.86936001,\n",
              "       2487.4185281 , 2484.95359911, 2482.47921627, 2479.99992737,\n",
              "       2477.52018473, 2475.04434523, 2472.57667027, 2470.12132579,\n",
              "       2467.6823823 , 2465.26381482, 2462.86950293, 2460.50323073,\n",
              "       2458.16868687, 2455.86946456, 2453.60906153, 2451.39088005,\n",
              "       2449.21822695, 2447.09431357, 2445.02225581, 2443.00507413,\n",
              "       2441.04569348, 2439.14694341, 2437.31155796, 2435.54217574,\n",
              "       2433.8413399 , 2432.21149812, 2430.65500262, 2429.17411016,\n",
              "       2427.77098207, 2426.44768418, 2425.20618688, 2424.0483651 ,\n",
              "       2422.97599832, 2421.99077054, 2421.09427031, 2420.28799073,\n",
              "       2419.57332943, 2418.95158859, 2418.42397491, 2417.99159967,\n",
              "       2417.65547864, 2417.41653218, 2417.27558516, 2417.233367  ,\n",
              "       2417.29051166, 2417.44755763, 2417.70494797, 2418.06303026,\n",
              "       2418.52205661, 2419.0821837 , 2419.74347273, 2420.50588944,\n",
              "       2421.36930412, 2422.33349161, 2423.39813126, 2424.56280699,\n",
              "       2425.82700725, 2427.19012502, 2428.65145785, 2430.21020781,\n",
              "       2431.8654815 , 2433.61629009, 2435.46154926, 2437.40007926,\n",
              "       2439.43060486, 2441.55175538, 2443.76206467, 2446.05997115,\n",
              "       2448.44381775, 2450.91185194, 2453.46222576, 2456.09299576,\n",
              "       2458.80212305, 2461.58747327, 2464.44681661, 2467.3778278 ,\n",
              "       2470.3780861 , 2473.44507533, 2476.57618382, 2479.76870447,\n",
              "       2483.01983471, 2486.32667651, 2489.68623639, 2493.09542539,\n",
              "       2496.55105911, 2500.04985769, 2503.5884458 , 2507.16335266,\n",
              "       2510.77101202, 2514.40776219, 2518.06984599, 2521.75341082,\n",
              "       2525.4545086 , 2529.16909577, 2532.89303336, 2536.62208689,\n",
              "       2540.35192646, 2544.07812668, 2547.79616673, 2551.50143031,\n",
              "       2555.18920567, 2558.8546856 , 2562.49296742, 2566.09905301,\n",
              "       2569.66784877, 2573.19416566, 2576.67271918, 2580.09812935,\n",
              "       2583.46492074, 2586.76752248, 2590.00026822, 2593.15739615,\n",
              "       2596.23304902, 2599.2212741 , 2602.11602321, 2604.91115271,\n",
              "       2607.6004235 , 2610.17750103, 2612.63595527, 2614.96926075,\n",
              "       2617.17079654, 2619.23384623, 2621.15159798, 2622.91714447,\n",
              "       2624.52348293, 2625.96351513, 2627.23004738, 2628.31579052,\n",
              "       2629.21335995, 2629.9152756 , 2630.41396195, 2630.701748  ,\n",
              "       2630.77086731, 2630.61345798, 2630.22156263, 2629.58712846,\n",
              "       2628.70200718, 2627.55795504, 2626.14663284, 2624.45960593,\n",
              "       2622.48834419, 2620.22422204, 2617.65851843, 2614.78241688,\n",
              "       2611.58700543, 2608.06327666, 2604.20212771, 2599.99436023,\n",
              "       2595.43068043, 2590.50169907, 2585.19793144, 2579.50979736,\n",
              "       2573.4276212 , 2566.94163188, 2560.04196285, 2552.71865211,\n",
              "       2544.96164218, 2536.76078014, 2528.10581762, 2518.98641077,\n",
              "       2509.39212027, 2499.31241139, 2488.73665388, 2477.65412209,\n",
              "       2466.05399485, 2453.92535559, 2441.25719223, 2428.03839727,\n",
              "       2414.25776773, 2399.90400517, 2384.96571571, 2369.43140998,\n",
              "       2353.28950318])"
            ]
          },
          "metadata": {},
          "execution_count": 81
        }
      ]
    },
    {
      "cell_type": "code",
      "source": [
        " import matplotlib.pyplot as plt\n",
        " plt.scatter(x,y,color=\"red\")\n",
        " plt.plot(x,y_pred,color=\"blue\")"
      ],
      "metadata": {
        "colab": {
          "base_uri": "https://localhost:8080/",
          "height": 282
        },
        "id": "VPofkXHE_l1_",
        "outputId": "6accd23a-9735-47d0-c6cf-c94d73ad615d"
      },
      "execution_count": 85,
      "outputs": [
        {
          "output_type": "execute_result",
          "data": {
            "text/plain": [
              "[<matplotlib.lines.Line2D at 0x7f9922845d10>]"
            ]
          },
          "metadata": {},
          "execution_count": 85
        },
        {
          "output_type": "display_data",
          "data": {
            "text/plain": [
              "<Figure size 432x288 with 1 Axes>"
            ],
            "image/png": "[encoded data removed]"
          },
          "metadata": {
            "needs_background": "light"
          }
        }
      ]
    },
    {
      "cell_type": "code",
      "source": [
        ""
      ],
      "metadata": {
        "id": "m-P3nC2GBVIC"
      },
      "execution_count": 85,
      "outputs": []
    }
  ]
}